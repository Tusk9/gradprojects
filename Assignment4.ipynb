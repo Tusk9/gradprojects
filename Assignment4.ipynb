{
  "nbformat": 4,
  "nbformat_minor": 0,
  "metadata": {
    "colab": {
      "provenance": [],
      "authorship_tag": "ABX9TyOwjRJIiUsSL+BR8IxNda+O",
      "include_colab_link": true
    },
    "kernelspec": {
      "name": "python3",
      "display_name": "Python 3"
    },
    "language_info": {
      "name": "python"
    }
  },
  "cells": [
    {
      "cell_type": "markdown",
      "metadata": {
        "id": "view-in-github",
        "colab_type": "text"
      },
      "source": [
        "<a href=\"https://colab.research.google.com/github/Tusk9/gradprojects/blob/main/Assignment4.ipynb\" target=\"_parent\"><img src=\"https://colab.research.google.com/assets/colab-badge.svg\" alt=\"Open In Colab\"/></a>"
      ]
    },
    {
      "cell_type": "code",
      "source": [
        "df = pd.read_csv(\"/week 4 - Nashville_housing_data.csv\")\n",
        "print(df.shape)"
      ],
      "metadata": {
        "colab": {
          "base_uri": "https://localhost:8080/"
        },
        "id": "8U-O6vdH1KyJ",
        "outputId": "bf1d4fc7-3e7f-4f8b-9ec0-d4a0bc93d6b5"
      },
      "execution_count": null,
      "outputs": [
        {
          "output_type": "stream",
          "name": "stdout",
          "text": [
            "(22651, 26)\n"
          ]
        }
      ]
    },
    {
      "cell_type": "code",
      "source": [
        "df.head()"
      ],
      "metadata": {
        "colab": {
          "base_uri": "https://localhost:8080/",
          "height": 525
        },
        "id": "ZbQRxKBu1ezg",
        "outputId": "5c65c9b2-46c0-46e6-b41f-734519c0d1b7"
      },
      "execution_count": null,
      "outputs": [
        {
          "output_type": "execute_result",
          "data": {
            "text/plain": [
              "   Unnamed: 0        Parcel ID       Land Use   Property Address  \\\n",
              "0           1  105 11 0 080.00  SINGLE FAMILY   1802  STEWART PL   \n",
              "1           2  118 03 0 130.00  SINGLE FAMILY  2761  ROSEDALE PL   \n",
              "2           3  119 01 0 479.00  SINGLE FAMILY  224  PEACHTREE ST   \n",
              "3           4  119 05 0 186.00  SINGLE FAMILY      316  LUTIE ST   \n",
              "4           5  119 05 0 387.00  SINGLE FAMILY   2626  FOSTER AVE   \n",
              "\n",
              "   Suite/ Condo   # Property City  Sale Date   Legal Reference Sold As Vacant  \\\n",
              "0               NaN     NASHVILLE  1/11/2013  20130118-0006337             No   \n",
              "1               NaN     NASHVILLE  1/18/2013  20130124-0008033             No   \n",
              "2               NaN     NASHVILLE  1/18/2013  20130128-0008863             No   \n",
              "3               NaN     NASHVILLE  1/23/2013  20130131-0009929             No   \n",
              "4               NaN     NASHVILLE   1/4/2013  20130118-0006110             No   \n",
              "\n",
              "  Multiple Parcels Involved in Sale  ... Building Value Finished Area  \\\n",
              "0                                No  ...         134400    1149.00000   \n",
              "1                                No  ...         157800    2090.82495   \n",
              "2                                No  ...         243700    2145.60001   \n",
              "3                                No  ...         138100    1969.00000   \n",
              "4                                No  ...          86100    1037.00000   \n",
              "\n",
              "   Foundation Type Year Built  Exterior Wall  Grade  Bedrooms  Full Bath  \\\n",
              "0          PT BSMT       1941          BRICK   C          2.0        1.0   \n",
              "1             SLAB       2000    BRICK/FRAME   C          3.0        2.0   \n",
              "2        FULL BSMT       1948    BRICK/FRAME   B          4.0        2.0   \n",
              "3            CRAWL       1910          FRAME   C          2.0        1.0   \n",
              "4            CRAWL       1945          FRAME   C          2.0        1.0   \n",
              "\n",
              "  Half Bath  Sale Price Compared To Value  \n",
              "0       0.0                          Over  \n",
              "1       1.0                          Over  \n",
              "2       0.0                         Under  \n",
              "3       0.0                         Under  \n",
              "4       0.0                         Under  \n",
              "\n",
              "[5 rows x 26 columns]"
            ],
            "text/html": [
              "\n",
              "  <div id=\"df-824dc5c3-ad72-46b0-a9a8-3cb8c90fcfb1\">\n",
              "    <div class=\"colab-df-container\">\n",
              "      <div>\n",
              "<style scoped>\n",
              "    .dataframe tbody tr th:only-of-type {\n",
              "        vertical-align: middle;\n",
              "    }\n",
              "\n",
              "    .dataframe tbody tr th {\n",
              "        vertical-align: top;\n",
              "    }\n",
              "\n",
              "    .dataframe thead th {\n",
              "        text-align: right;\n",
              "    }\n",
              "</style>\n",
              "<table border=\"1\" class=\"dataframe\">\n",
              "  <thead>\n",
              "    <tr style=\"text-align: right;\">\n",
              "      <th></th>\n",
              "      <th>Unnamed: 0</th>\n",
              "      <th>Parcel ID</th>\n",
              "      <th>Land Use</th>\n",
              "      <th>Property Address</th>\n",
              "      <th>Suite/ Condo   #</th>\n",
              "      <th>Property City</th>\n",
              "      <th>Sale Date</th>\n",
              "      <th>Legal Reference</th>\n",
              "      <th>Sold As Vacant</th>\n",
              "      <th>Multiple Parcels Involved in Sale</th>\n",
              "      <th>...</th>\n",
              "      <th>Building Value</th>\n",
              "      <th>Finished Area</th>\n",
              "      <th>Foundation Type</th>\n",
              "      <th>Year Built</th>\n",
              "      <th>Exterior Wall</th>\n",
              "      <th>Grade</th>\n",
              "      <th>Bedrooms</th>\n",
              "      <th>Full Bath</th>\n",
              "      <th>Half Bath</th>\n",
              "      <th>Sale Price Compared To Value</th>\n",
              "    </tr>\n",
              "  </thead>\n",
              "  <tbody>\n",
              "    <tr>\n",
              "      <th>0</th>\n",
              "      <td>1</td>\n",
              "      <td>105 11 0 080.00</td>\n",
              "      <td>SINGLE FAMILY</td>\n",
              "      <td>1802  STEWART PL</td>\n",
              "      <td>NaN</td>\n",
              "      <td>NASHVILLE</td>\n",
              "      <td>1/11/2013</td>\n",
              "      <td>20130118-0006337</td>\n",
              "      <td>No</td>\n",
              "      <td>No</td>\n",
              "      <td>...</td>\n",
              "      <td>134400</td>\n",
              "      <td>1149.00000</td>\n",
              "      <td>PT BSMT</td>\n",
              "      <td>1941</td>\n",
              "      <td>BRICK</td>\n",
              "      <td>C</td>\n",
              "      <td>2.0</td>\n",
              "      <td>1.0</td>\n",
              "      <td>0.0</td>\n",
              "      <td>Over</td>\n",
              "    </tr>\n",
              "    <tr>\n",
              "      <th>1</th>\n",
              "      <td>2</td>\n",
              "      <td>118 03 0 130.00</td>\n",
              "      <td>SINGLE FAMILY</td>\n",
              "      <td>2761  ROSEDALE PL</td>\n",
              "      <td>NaN</td>\n",
              "      <td>NASHVILLE</td>\n",
              "      <td>1/18/2013</td>\n",
              "      <td>20130124-0008033</td>\n",
              "      <td>No</td>\n",
              "      <td>No</td>\n",
              "      <td>...</td>\n",
              "      <td>157800</td>\n",
              "      <td>2090.82495</td>\n",
              "      <td>SLAB</td>\n",
              "      <td>2000</td>\n",
              "      <td>BRICK/FRAME</td>\n",
              "      <td>C</td>\n",
              "      <td>3.0</td>\n",
              "      <td>2.0</td>\n",
              "      <td>1.0</td>\n",
              "      <td>Over</td>\n",
              "    </tr>\n",
              "    <tr>\n",
              "      <th>2</th>\n",
              "      <td>3</td>\n",
              "      <td>119 01 0 479.00</td>\n",
              "      <td>SINGLE FAMILY</td>\n",
              "      <td>224  PEACHTREE ST</td>\n",
              "      <td>NaN</td>\n",
              "      <td>NASHVILLE</td>\n",
              "      <td>1/18/2013</td>\n",
              "      <td>20130128-0008863</td>\n",
              "      <td>No</td>\n",
              "      <td>No</td>\n",
              "      <td>...</td>\n",
              "      <td>243700</td>\n",
              "      <td>2145.60001</td>\n",
              "      <td>FULL BSMT</td>\n",
              "      <td>1948</td>\n",
              "      <td>BRICK/FRAME</td>\n",
              "      <td>B</td>\n",
              "      <td>4.0</td>\n",
              "      <td>2.0</td>\n",
              "      <td>0.0</td>\n",
              "      <td>Under</td>\n",
              "    </tr>\n",
              "    <tr>\n",
              "      <th>3</th>\n",
              "      <td>4</td>\n",
              "      <td>119 05 0 186.00</td>\n",
              "      <td>SINGLE FAMILY</td>\n",
              "      <td>316  LUTIE ST</td>\n",
              "      <td>NaN</td>\n",
              "      <td>NASHVILLE</td>\n",
              "      <td>1/23/2013</td>\n",
              "      <td>20130131-0009929</td>\n",
              "      <td>No</td>\n",
              "      <td>No</td>\n",
              "      <td>...</td>\n",
              "      <td>138100</td>\n",
              "      <td>1969.00000</td>\n",
              "      <td>CRAWL</td>\n",
              "      <td>1910</td>\n",
              "      <td>FRAME</td>\n",
              "      <td>C</td>\n",
              "      <td>2.0</td>\n",
              "      <td>1.0</td>\n",
              "      <td>0.0</td>\n",
              "      <td>Under</td>\n",
              "    </tr>\n",
              "    <tr>\n",
              "      <th>4</th>\n",
              "      <td>5</td>\n",
              "      <td>119 05 0 387.00</td>\n",
              "      <td>SINGLE FAMILY</td>\n",
              "      <td>2626  FOSTER AVE</td>\n",
              "      <td>NaN</td>\n",
              "      <td>NASHVILLE</td>\n",
              "      <td>1/4/2013</td>\n",
              "      <td>20130118-0006110</td>\n",
              "      <td>No</td>\n",
              "      <td>No</td>\n",
              "      <td>...</td>\n",
              "      <td>86100</td>\n",
              "      <td>1037.00000</td>\n",
              "      <td>CRAWL</td>\n",
              "      <td>1945</td>\n",
              "      <td>FRAME</td>\n",
              "      <td>C</td>\n",
              "      <td>2.0</td>\n",
              "      <td>1.0</td>\n",
              "      <td>0.0</td>\n",
              "      <td>Under</td>\n",
              "    </tr>\n",
              "  </tbody>\n",
              "</table>\n",
              "<p>5 rows × 26 columns</p>\n",
              "</div>\n",
              "      <button class=\"colab-df-convert\" onclick=\"convertToInteractive('df-824dc5c3-ad72-46b0-a9a8-3cb8c90fcfb1')\"\n",
              "              title=\"Convert this dataframe to an interactive table.\"\n",
              "              style=\"display:none;\">\n",
              "        \n",
              "  <svg xmlns=\"http://www.w3.org/2000/svg\" height=\"24px\"viewBox=\"0 0 24 24\"\n",
              "       width=\"24px\">\n",
              "    <path d=\"M0 0h24v24H0V0z\" fill=\"none\"/>\n",
              "    <path d=\"M18.56 5.44l.94 2.06.94-2.06 2.06-.94-2.06-.94-.94-2.06-.94 2.06-2.06.94zm-11 1L8.5 8.5l.94-2.06 2.06-.94-2.06-.94L8.5 2.5l-.94 2.06-2.06.94zm10 10l.94 2.06.94-2.06 2.06-.94-2.06-.94-.94-2.06-.94 2.06-2.06.94z\"/><path d=\"M17.41 7.96l-1.37-1.37c-.4-.4-.92-.59-1.43-.59-.52 0-1.04.2-1.43.59L10.3 9.45l-7.72 7.72c-.78.78-.78 2.05 0 2.83L4 21.41c.39.39.9.59 1.41.59.51 0 1.02-.2 1.41-.59l7.78-7.78 2.81-2.81c.8-.78.8-2.07 0-2.86zM5.41 20L4 18.59l7.72-7.72 1.47 1.35L5.41 20z\"/>\n",
              "  </svg>\n",
              "      </button>\n",
              "      \n",
              "  <style>\n",
              "    .colab-df-container {\n",
              "      display:flex;\n",
              "      flex-wrap:wrap;\n",
              "      gap: 12px;\n",
              "    }\n",
              "\n",
              "    .colab-df-convert {\n",
              "      background-color: #E8F0FE;\n",
              "      border: none;\n",
              "      border-radius: 50%;\n",
              "      cursor: pointer;\n",
              "      display: none;\n",
              "      fill: #1967D2;\n",
              "      height: 32px;\n",
              "      padding: 0 0 0 0;\n",
              "      width: 32px;\n",
              "    }\n",
              "\n",
              "    .colab-df-convert:hover {\n",
              "      background-color: #E2EBFA;\n",
              "      box-shadow: 0px 1px 2px rgba(60, 64, 67, 0.3), 0px 1px 3px 1px rgba(60, 64, 67, 0.15);\n",
              "      fill: #174EA6;\n",
              "    }\n",
              "\n",
              "    [theme=dark] .colab-df-convert {\n",
              "      background-color: #3B4455;\n",
              "      fill: #D2E3FC;\n",
              "    }\n",
              "\n",
              "    [theme=dark] .colab-df-convert:hover {\n",
              "      background-color: #434B5C;\n",
              "      box-shadow: 0px 1px 3px 1px rgba(0, 0, 0, 0.15);\n",
              "      filter: drop-shadow(0px 1px 2px rgba(0, 0, 0, 0.3));\n",
              "      fill: #FFFFFF;\n",
              "    }\n",
              "  </style>\n",
              "\n",
              "      <script>\n",
              "        const buttonEl =\n",
              "          document.querySelector('#df-824dc5c3-ad72-46b0-a9a8-3cb8c90fcfb1 button.colab-df-convert');\n",
              "        buttonEl.style.display =\n",
              "          google.colab.kernel.accessAllowed ? 'block' : 'none';\n",
              "\n",
              "        async function convertToInteractive(key) {\n",
              "          const element = document.querySelector('#df-824dc5c3-ad72-46b0-a9a8-3cb8c90fcfb1');\n",
              "          const dataTable =\n",
              "            await google.colab.kernel.invokeFunction('convertToInteractive',\n",
              "                                                     [key], {});\n",
              "          if (!dataTable) return;\n",
              "\n",
              "          const docLinkHtml = 'Like what you see? Visit the ' +\n",
              "            '<a target=\"_blank\" href=https://colab.research.google.com/notebooks/data_table.ipynb>data table notebook</a>'\n",
              "            + ' to learn more about interactive tables.';\n",
              "          element.innerHTML = '';\n",
              "          dataTable['output_type'] = 'display_data';\n",
              "          await google.colab.output.renderOutput(dataTable, element);\n",
              "          const docLink = document.createElement('div');\n",
              "          docLink.innerHTML = docLinkHtml;\n",
              "          element.appendChild(docLink);\n",
              "        }\n",
              "      </script>\n",
              "    </div>\n",
              "  </div>\n",
              "  "
            ]
          },
          "metadata": {},
          "execution_count": 3
        }
      ]
    },
    {
      "cell_type": "code",
      "source": [
        "#check missing value by mean\n",
        "df.isnull().sum()"
      ],
      "metadata": {
        "colab": {
          "base_uri": "https://localhost:8080/"
        },
        "id": "9rmIsRRq1e2F",
        "outputId": "baa554ab-31de-4136-b44a-1b7029b319f9"
      },
      "execution_count": null,
      "outputs": [
        {
          "output_type": "execute_result",
          "data": {
            "text/plain": [
              "Unnamed: 0                               0\n",
              "Parcel ID                                0\n",
              "Land Use                                 0\n",
              "Property Address                         2\n",
              "Suite/ Condo   #                     22651\n",
              "Property City                            2\n",
              "Sale Date                                0\n",
              "Legal Reference                          0\n",
              "Sold As Vacant                           0\n",
              "Multiple Parcels Involved in Sale        0\n",
              "City                                     0\n",
              "State                                    0\n",
              "Acreage                                  0\n",
              "Tax District                             0\n",
              "Neighborhood                             0\n",
              "Land Value                               0\n",
              "Building Value                           0\n",
              "Finished Area                            1\n",
              "Foundation Type                          1\n",
              "Year Built                               0\n",
              "Exterior Wall                            0\n",
              "Grade                                    0\n",
              "Bedrooms                                 3\n",
              "Full Bath                                1\n",
              "Half Bath                              108\n",
              "Sale Price Compared To Value             0\n",
              "dtype: int64"
            ]
          },
          "metadata": {},
          "execution_count": 4
        }
      ]
    },
    {
      "cell_type": "code",
      "source": [
        "df.dtypes"
      ],
      "metadata": {
        "colab": {
          "base_uri": "https://localhost:8080/"
        },
        "id": "6h6tMjnT1v4E",
        "outputId": "4118e6a3-fe89-4914-b545-3092e54dd41c"
      },
      "execution_count": null,
      "outputs": [
        {
          "output_type": "execute_result",
          "data": {
            "text/plain": [
              "Unnamed: 0                             int64\n",
              "Parcel ID                             object\n",
              "Land Use                              object\n",
              "Property Address                      object\n",
              "Suite/ Condo   #                     float64\n",
              "Property City                         object\n",
              "Sale Date                             object\n",
              "Legal Reference                       object\n",
              "Sold As Vacant                        object\n",
              "Multiple Parcels Involved in Sale     object\n",
              "City                                  object\n",
              "State                                 object\n",
              "Acreage                              float64\n",
              "Tax District                          object\n",
              "Neighborhood                           int64\n",
              "Land Value                             int64\n",
              "Building Value                         int64\n",
              "Finished Area                        float64\n",
              "Foundation Type                       object\n",
              "Year Built                             int64\n",
              "Exterior Wall                         object\n",
              "Grade                                 object\n",
              "Bedrooms                             float64\n",
              "Full Bath                            float64\n",
              "Half Bath                            float64\n",
              "Sale Price Compared To Value          object\n",
              "dtype: object"
            ]
          },
          "metadata": {},
          "execution_count": 5
        }
      ]
    },
    {
      "cell_type": "code",
      "source": [
        "palette_color = sns.color_palette('bright')\n",
        "\n",
        "label = df['Sold As Vacant'].unique().tolist()\n",
        "\n",
        "plt.pie(df['Sold As Vacant'].value_counts(), labels=label, colors=palette_color, autopct='%.0f%%', radius = 2)\n",
        "\n",
        "# displaying chart\n",
        "plt.show()"
      ],
      "metadata": {
        "colab": {
          "base_uri": "https://localhost:8080/",
          "height": 380
        },
        "id": "invvXJnljMZ-",
        "outputId": "338fcdb5-6360-495c-c2c7-1094ff430997"
      },
      "execution_count": null,
      "outputs": [
        {
          "output_type": "display_data",
          "data": {
            "text/plain": [
              "<Figure size 432x288 with 1 Axes>"
            ],
            "image/png": "[encoded data removed]"
          },
          "metadata": {}
        }
      ]
    },
    {
      "cell_type": "code",
      "source": [
        "palette_color = sns.color_palette('bright')\n",
        "\n",
        "label = df['Exterior Wall'].unique().tolist()\n",
        "\n",
        "plt.pie(df['Exterior Wall'].value_counts(), labels=label, colors=palette_color, autopct='%.0f%%', radius = 2)\n",
        "\n",
        "# displaying chart\n",
        "plt.show()"
      ],
      "metadata": {
        "colab": {
          "base_uri": "https://localhost:8080/",
          "height": 410
        },
        "id": "yWa11bjMl9oy",
        "outputId": "7c7a95f3-4339-48e3-f01f-0f92ee4eba96"
      },
      "execution_count": null,
      "outputs": [
        {
          "output_type": "display_data",
          "data": {
            "text/plain": [
              "<Figure size 432x288 with 1 Axes>"
            ],
            "image/png": "[encoded data removed]"
          },
          "metadata": {}
        }
      ]
    },
    {
      "cell_type": "code",
      "source": [
        "palette_color = sns.color_palette('bright')\n",
        "\n",
        "label = df['Grade'].unique().tolist()\n",
        "\n",
        "plt.pie(df['Grade'].value_counts(), labels=label, colors=palette_color, autopct='%.0f%%', radius = 2)\n",
        "\n",
        "# displaying chart\n",
        "plt.show()"
      ],
      "metadata": {
        "colab": {
          "base_uri": "https://localhost:8080/",
          "height": 397
        },
        "id": "_cOE3vepjNgQ",
        "outputId": "b1e712ac-0e75-4c85-9843-d037a8f0931c"
      },
      "execution_count": null,
      "outputs": [
        {
          "output_type": "display_data",
          "data": {
            "text/plain": [
              "<Figure size 432x288 with 1 Axes>"
            ],
            "image/png": "[encoded data removed]"
          },
          "metadata": {}
        }
      ]
    },
    {
      "cell_type": "code",
      "source": [
        "palette_color = sns.color_palette('bright')\n",
        "\n",
        "label = df['Land Use'].unique().tolist()\n",
        "\n",
        "plt.pie(df['Land Use'].value_counts(), labels=label, colors=palette_color, autopct='%.0f%%', radius = 2)\n",
        "\n",
        "# displaying chart\n",
        "plt.show()"
      ],
      "metadata": {
        "colab": {
          "base_uri": "https://localhost:8080/",
          "height": 381
        },
        "id": "SFJiKVJEk_ZT",
        "outputId": "3f166521-bcbf-4569-e550-3e709d39e035"
      },
      "execution_count": null,
      "outputs": [
        {
          "output_type": "display_data",
          "data": {
            "text/plain": [
              "<Figure size 432x288 with 1 Axes>"
            ],
            "image/png": "[encoded data removed]"
          },
          "metadata": {}
        }
      ]
    },
    {
      "cell_type": "code",
      "source": [
        "#Visualizations\n",
        "plt.figure(figsize = (8,4))\n",
        "sns.distplot(df['Full Bath'], kde = False, hist = True)\n",
        "plt.title('Baths distribution', size = 16)\n",
        "plt.ylabel('count');"
      ],
      "metadata": {
        "colab": {
          "base_uri": "https://localhost:8080/",
          "height": 352
        },
        "id": "sImhcrz0jMdz",
        "outputId": "b586670a-1469-49db-a81e-7a67ae8fb195"
      },
      "execution_count": null,
      "outputs": [
        {
          "output_type": "stream",
          "name": "stderr",
          "text": [
            "/usr/local/lib/python3.8/dist-packages/seaborn/distributions.py:2619: FutureWarning: `distplot` is a deprecated function and will be removed in a future version. Please adapt your code to use either `displot` (a figure-level function with similar flexibility) or `histplot` (an axes-level function for histograms).\n",
            "  warnings.warn(msg, FutureWarning)\n"
          ]
        },
        {
          "output_type": "display_data",
          "data": {
            "text/plain": [
              "<Figure size 576x288 with 1 Axes>"
            ],
            "image/png": "[encoded data removed]"
          },
          "metadata": {
            "needs_background": "light"
          }
        }
      ]
    },
    {
      "cell_type": "code",
      "source": [
        "plt.figure(figsize = (8,4))\n",
        "sns.distplot(df['Bedrooms'], kde = False, hist = True)\n",
        "plt.title('Bedrooms distribution', size = 16)\n",
        "plt.ylabel('count');"
      ],
      "metadata": {
        "colab": {
          "base_uri": "https://localhost:8080/",
          "height": 297
        },
        "id": "kZVJd8DMj3FF",
        "outputId": "fb738c94-f553-407b-863c-e8429ef83209"
      },
      "execution_count": null,
      "outputs": [
        {
          "output_type": "display_data",
          "data": {
            "text/plain": [
              "<Figure size 576x288 with 1 Axes>"
            ],
            "image/png": "[encoded data removed]"
          },
          "metadata": {
            "needs_background": "light"
          }
        }
      ]
    },
    {
      "cell_type": "code",
      "source": [
        "plt.figure(figsize = (8,4))\n",
        "sns.distplot(df['Year Built'], kde = False, hist = True)\n",
        "plt.title('Year Built distribution', size = 16)\n",
        "plt.ylabel('count');"
      ],
      "metadata": {
        "colab": {
          "base_uri": "https://localhost:8080/",
          "height": 297
        },
        "id": "060kkpNZjqUN",
        "outputId": "f73b7543-df3c-4d7c-ff09-114bf20c393b"
      },
      "execution_count": null,
      "outputs": [
        {
          "output_type": "display_data",
          "data": {
            "text/plain": [
              "<Figure size 576x288 with 1 Axes>"
            ],
            "image/png": "[encoded data removed]"
          },
          "metadata": {
            "needs_background": "light"
          }
        }
      ]
    },
    {
      "cell_type": "code",
      "source": [
        "plt.figure(figsize = (8,4))\n",
        "sns.distplot(df['Building Value'], kde = False, hist = True)\n",
        "plt.title('Building Value distribution', size = 16)\n",
        "plt.ylabel('count');"
      ],
      "metadata": {
        "colab": {
          "base_uri": "https://localhost:8080/",
          "height": 297
        },
        "id": "aDgEwCFSzvL-",
        "outputId": "9e4f7218-850b-4d78-dc48-732d394df8fd"
      },
      "execution_count": null,
      "outputs": [
        {
          "output_type": "display_data",
          "data": {
            "text/plain": [
              "<Figure size 576x288 with 1 Axes>"
            ],
            "image/png": "[encoded data removed]"
          },
          "metadata": {
            "needs_background": "light"
          }
        }
      ]
    },
    {
      "cell_type": "code",
      "source": [
        "plt.figure(figsize = (8,4))\n",
        "sns.distplot(df['Land Value'], kde = False, hist = True)\n",
        "plt.title('Land Value distribution', size = 16)\n",
        "plt.ylabel('count');"
      ],
      "metadata": {
        "colab": {
          "base_uri": "https://localhost:8080/",
          "height": 297
        },
        "id": "7udTaKUTlO_D",
        "outputId": "13b8c4a4-5680-4d6c-e9dc-9b8e0a7a6107"
      },
      "execution_count": null,
      "outputs": [
        {
          "output_type": "display_data",
          "data": {
            "text/plain": [
              "<Figure size 576x288 with 1 Axes>"
            ],
            "image/png": "[encoded data removed]"
          },
          "metadata": {
            "needs_background": "light"
          }
        }
      ]
    },
    {
      "cell_type": "code",
      "source": [
        "plt.figure(figsize = (8,4))\n",
        "sns.distplot(df['Acreage'], kde = False, hist = True)\n",
        "plt.title('Acreage distribution', size = 16)\n",
        "plt.ylabel('count');"
      ],
      "metadata": {
        "colab": {
          "base_uri": "https://localhost:8080/",
          "height": 297
        },
        "id": "z1Qm0iwTDhc6",
        "outputId": "e281dad5-5bc3-4374-c9d9-a1ba423a7e62"
      },
      "execution_count": null,
      "outputs": [
        {
          "output_type": "display_data",
          "data": {
            "text/plain": [
              "<Figure size 576x288 with 1 Axes>"
            ],
            "image/png": "[encoded data removed]"
          },
          "metadata": {
            "needs_background": "light"
          }
        }
      ]
    },
    {
      "cell_type": "code",
      "source": [
        "palette_color = sns.color_palette('bright')\n",
        "\n",
        "label = df['Sale Price Compared To Value'].unique().tolist()\n",
        "\n",
        "plt.pie(df['Sale Price Compared To Value'].value_counts(), labels=label, colors=palette_color, autopct='%.0f%%', radius = 2)\n",
        "\n",
        "# displaying chart\n",
        "plt.show()"
      ],
      "metadata": {
        "colab": {
          "base_uri": "https://localhost:8080/",
          "height": 380
        },
        "id": "S1F4h3f3jqWr",
        "outputId": "dd701aed-7c3c-41e2-de4b-455110608316"
      },
      "execution_count": null,
      "outputs": [
        {
          "output_type": "display_data",
          "data": {
            "text/plain": [
              "<Figure size 432x288 with 1 Axes>"
            ],
            "image/png": "[encoded data removed]"
          },
          "metadata": {}
        }
      ]
    },
    {
      "cell_type": "code",
      "source": [],
      "metadata": {
        "id": "7WnkbVCJjqe5"
      },
      "execution_count": null,
      "outputs": []
    },
    {
      "cell_type": "code",
      "source": [
        "#encoding some categorical columns into numerical columns\n",
        "#Pre Processing\n",
        "le=LabelEncoder()\n",
        "label=le.fit_transform(df['Foundation Type'])\n",
        "label\n",
        "df.drop('Foundation Type',axis=1)\n",
        "df['Foundation Type']=label\n",
        "\n",
        "label1=le.fit_transform(df['Sale Price Compared To Value'])\n",
        "df.drop('Sale Price Compared To Value',axis=1)\n",
        "df['Sale Price Compared To Value']=label1\n",
        "\n",
        "label2=le.fit_transform(df['Land Use'])\n",
        "df.drop('Land Use',axis=1)\n",
        "df['Land Use']=label2\n",
        "\n",
        "label3=le.fit_transform(df['Sold As Vacant'])\n",
        "df['Sold As Vacant']=label3\n",
        "\n",
        "label4=le.fit_transform(df['Multiple Parcels Involved in Sale'])\n",
        "df.drop('Multiple Parcels Involved in Sale',axis=1)\n",
        "df['Multiple Parcels Involved in Sale']=label4\n",
        "\n",
        "label5=le.fit_transform(df['Exterior Wall'])\n",
        "df.drop('Exterior Wall',axis=1)\n",
        "df['Exterior Wall']=label5\n",
        "\n",
        "label6=le.fit_transform(df['Grade'])\n",
        "df.drop('Grade',axis=1)\n",
        "df['Grade']=label6\n",
        "\n",
        "df.head()\n"
      ],
      "metadata": {
        "colab": {
          "base_uri": "https://localhost:8080/",
          "height": 525
        },
        "id": "3XABk7CO1v6a",
        "outputId": "a3b97630-713a-4644-eb99-82663537dfbf"
      },
      "execution_count": null,
      "outputs": [
        {
          "output_type": "execute_result",
          "data": {
            "text/plain": [
              "   Unnamed: 0        Parcel ID  Land Use   Property Address  Suite/ Condo   #  \\\n",
              "0           1  105 11 0 080.00         3   1802  STEWART PL               NaN   \n",
              "1           2  118 03 0 130.00         3  2761  ROSEDALE PL               NaN   \n",
              "2           3  119 01 0 479.00         3  224  PEACHTREE ST               NaN   \n",
              "3           4  119 05 0 186.00         3      316  LUTIE ST               NaN   \n",
              "4           5  119 05 0 387.00         3   2626  FOSTER AVE               NaN   \n",
              "\n",
              "  Property City  Sale Date   Legal Reference  Sold As Vacant  \\\n",
              "0     NASHVILLE  1/11/2013  20130118-0006337               0   \n",
              "1     NASHVILLE  1/18/2013  20130124-0008033               0   \n",
              "2     NASHVILLE  1/18/2013  20130128-0008863               0   \n",
              "3     NASHVILLE  1/23/2013  20130131-0009929               0   \n",
              "4     NASHVILLE   1/4/2013  20130118-0006110               0   \n",
              "\n",
              "   Multiple Parcels Involved in Sale  ... Building Value Finished Area  \\\n",
              "0                                  0  ...         134400    1149.00000   \n",
              "1                                  0  ...         157800    2090.82495   \n",
              "2                                  0  ...         243700    2145.60001   \n",
              "3                                  0  ...         138100    1969.00000   \n",
              "4                                  0  ...          86100    1037.00000   \n",
              "\n",
              "   Foundation Type Year Built  Exterior Wall  Grade  Bedrooms  Full Bath  \\\n",
              "0                3       1941              0      3       2.0        1.0   \n",
              "1                4       2000              1      3       3.0        2.0   \n",
              "2                1       1948              1      2       4.0        2.0   \n",
              "3                0       1910              3      3       2.0        1.0   \n",
              "4                0       1945              3      3       2.0        1.0   \n",
              "\n",
              "   Half Bath  Sale Price Compared To Value  \n",
              "0        0.0                             0  \n",
              "1        1.0                             0  \n",
              "2        0.0                             1  \n",
              "3        0.0                             1  \n",
              "4        0.0                             1  \n",
              "\n",
              "[5 rows x 26 columns]"
            ],
            "text/html": [
              "\n",
              "  <div id=\"df-00f233ab-8bb6-4361-a3f8-df6b3318f1c1\">\n",
              "    <div class=\"colab-df-container\">\n",
              "      <div>\n",
              "<style scoped>\n",
              "    .dataframe tbody tr th:only-of-type {\n",
              "        vertical-align: middle;\n",
              "    }\n",
              "\n",
              "    .dataframe tbody tr th {\n",
              "        vertical-align: top;\n",
              "    }\n",
              "\n",
              "    .dataframe thead th {\n",
              "        text-align: right;\n",
              "    }\n",
              "</style>\n",
              "<table border=\"1\" class=\"dataframe\">\n",
              "  <thead>\n",
              "    <tr style=\"text-align: right;\">\n",
              "      <th></th>\n",
              "      <th>Unnamed: 0</th>\n",
              "      <th>Parcel ID</th>\n",
              "      <th>Land Use</th>\n",
              "      <th>Property Address</th>\n",
              "      <th>Suite/ Condo   #</th>\n",
              "      <th>Property City</th>\n",
              "      <th>Sale Date</th>\n",
              "      <th>Legal Reference</th>\n",
              "      <th>Sold As Vacant</th>\n",
              "      <th>Multiple Parcels Involved in Sale</th>\n",
              "      <th>...</th>\n",
              "      <th>Building Value</th>\n",
              "      <th>Finished Area</th>\n",
              "      <th>Foundation Type</th>\n",
              "      <th>Year Built</th>\n",
              "      <th>Exterior Wall</th>\n",
              "      <th>Grade</th>\n",
              "      <th>Bedrooms</th>\n",
              "      <th>Full Bath</th>\n",
              "      <th>Half Bath</th>\n",
              "      <th>Sale Price Compared To Value</th>\n",
              "    </tr>\n",
              "  </thead>\n",
              "  <tbody>\n",
              "    <tr>\n",
              "      <th>0</th>\n",
              "      <td>1</td>\n",
              "      <td>105 11 0 080.00</td>\n",
              "      <td>3</td>\n",
              "      <td>1802  STEWART PL</td>\n",
              "      <td>NaN</td>\n",
              "      <td>NASHVILLE</td>\n",
              "      <td>1/11/2013</td>\n",
              "      <td>20130118-0006337</td>\n",
              "      <td>0</td>\n",
              "      <td>0</td>\n",
              "      <td>...</td>\n",
              "      <td>134400</td>\n",
              "      <td>1149.00000</td>\n",
              "      <td>3</td>\n",
              "      <td>1941</td>\n",
              "      <td>0</td>\n",
              "      <td>3</td>\n",
              "      <td>2.0</td>\n",
              "      <td>1.0</td>\n",
              "      <td>0.0</td>\n",
              "      <td>0</td>\n",
              "    </tr>\n",
              "    <tr>\n",
              "      <th>1</th>\n",
              "      <td>2</td>\n",
              "      <td>118 03 0 130.00</td>\n",
              "      <td>3</td>\n",
              "      <td>2761  ROSEDALE PL</td>\n",
              "      <td>NaN</td>\n",
              "      <td>NASHVILLE</td>\n",
              "      <td>1/18/2013</td>\n",
              "      <td>20130124-0008033</td>\n",
              "      <td>0</td>\n",
              "      <td>0</td>\n",
              "      <td>...</td>\n",
              "      <td>157800</td>\n",
              "      <td>2090.82495</td>\n",
              "      <td>4</td>\n",
              "      <td>2000</td>\n",
              "      <td>1</td>\n",
              "      <td>3</td>\n",
              "      <td>3.0</td>\n",
              "      <td>2.0</td>\n",
              "      <td>1.0</td>\n",
              "      <td>0</td>\n",
              "    </tr>\n",
              "    <tr>\n",
              "      <th>2</th>\n",
              "      <td>3</td>\n",
              "      <td>119 01 0 479.00</td>\n",
              "      <td>3</td>\n",
              "      <td>224  PEACHTREE ST</td>\n",
              "      <td>NaN</td>\n",
              "      <td>NASHVILLE</td>\n",
              "      <td>1/18/2013</td>\n",
              "      <td>20130128-0008863</td>\n",
              "      <td>0</td>\n",
              "      <td>0</td>\n",
              "      <td>...</td>\n",
              "      <td>243700</td>\n",
              "      <td>2145.60001</td>\n",
              "      <td>1</td>\n",
              "      <td>1948</td>\n",
              "      <td>1</td>\n",
              "      <td>2</td>\n",
              "      <td>4.0</td>\n",
              "      <td>2.0</td>\n",
              "      <td>0.0</td>\n",
              "      <td>1</td>\n",
              "    </tr>\n",
              "    <tr>\n",
              "      <th>3</th>\n",
              "      <td>4</td>\n",
              "      <td>119 05 0 186.00</td>\n",
              "      <td>3</td>\n",
              "      <td>316  LUTIE ST</td>\n",
              "      <td>NaN</td>\n",
              "      <td>NASHVILLE</td>\n",
              "      <td>1/23/2013</td>\n",
              "      <td>20130131-0009929</td>\n",
              "      <td>0</td>\n",
              "      <td>0</td>\n",
              "      <td>...</td>\n",
              "      <td>138100</td>\n",
              "      <td>1969.00000</td>\n",
              "      <td>0</td>\n",
              "      <td>1910</td>\n",
              "      <td>3</td>\n",
              "      <td>3</td>\n",
              "      <td>2.0</td>\n",
              "      <td>1.0</td>\n",
              "      <td>0.0</td>\n",
              "      <td>1</td>\n",
              "    </tr>\n",
              "    <tr>\n",
              "      <th>4</th>\n",
              "      <td>5</td>\n",
              "      <td>119 05 0 387.00</td>\n",
              "      <td>3</td>\n",
              "      <td>2626  FOSTER AVE</td>\n",
              "      <td>NaN</td>\n",
              "      <td>NASHVILLE</td>\n",
              "      <td>1/4/2013</td>\n",
              "      <td>20130118-0006110</td>\n",
              "      <td>0</td>\n",
              "      <td>0</td>\n",
              "      <td>...</td>\n",
              "      <td>86100</td>\n",
              "      <td>1037.00000</td>\n",
              "      <td>0</td>\n",
              "      <td>1945</td>\n",
              "      <td>3</td>\n",
              "      <td>3</td>\n",
              "      <td>2.0</td>\n",
              "      <td>1.0</td>\n",
              "      <td>0.0</td>\n",
              "      <td>1</td>\n",
              "    </tr>\n",
              "  </tbody>\n",
              "</table>\n",
              "<p>5 rows × 26 columns</p>\n",
              "</div>\n",
              "      <button class=\"colab-df-convert\" onclick=\"convertToInteractive('df-00f233ab-8bb6-4361-a3f8-df6b3318f1c1')\"\n",
              "              title=\"Convert this dataframe to an interactive table.\"\n",
              "              style=\"display:none;\">\n",
              "        \n",
              "  <svg xmlns=\"http://www.w3.org/2000/svg\" height=\"24px\"viewBox=\"0 0 24 24\"\n",
              "       width=\"24px\">\n",
              "    <path d=\"M0 0h24v24H0V0z\" fill=\"none\"/>\n",
              "    <path d=\"M18.56 5.44l.94 2.06.94-2.06 2.06-.94-2.06-.94-.94-2.06-.94 2.06-2.06.94zm-11 1L8.5 8.5l.94-2.06 2.06-.94-2.06-.94L8.5 2.5l-.94 2.06-2.06.94zm10 10l.94 2.06.94-2.06 2.06-.94-2.06-.94-.94-2.06-.94 2.06-2.06.94z\"/><path d=\"M17.41 7.96l-1.37-1.37c-.4-.4-.92-.59-1.43-.59-.52 0-1.04.2-1.43.59L10.3 9.45l-7.72 7.72c-.78.78-.78 2.05 0 2.83L4 21.41c.39.39.9.59 1.41.59.51 0 1.02-.2 1.41-.59l7.78-7.78 2.81-2.81c.8-.78.8-2.07 0-2.86zM5.41 20L4 18.59l7.72-7.72 1.47 1.35L5.41 20z\"/>\n",
              "  </svg>\n",
              "      </button>\n",
              "      \n",
              "  <style>\n",
              "    .colab-df-container {\n",
              "      display:flex;\n",
              "      flex-wrap:wrap;\n",
              "      gap: 12px;\n",
              "    }\n",
              "\n",
              "    .colab-df-convert {\n",
              "      background-color: #E8F0FE;\n",
              "      border: none;\n",
              "      border-radius: 50%;\n",
              "      cursor: pointer;\n",
              "      display: none;\n",
              "      fill: #1967D2;\n",
              "      height: 32px;\n",
              "      padding: 0 0 0 0;\n",
              "      width: 32px;\n",
              "    }\n",
              "\n",
              "    .colab-df-convert:hover {\n",
              "      background-color: #E2EBFA;\n",
              "      box-shadow: 0px 1px 2px rgba(60, 64, 67, 0.3), 0px 1px 3px 1px rgba(60, 64, 67, 0.15);\n",
              "      fill: #174EA6;\n",
              "    }\n",
              "\n",
              "    [theme=dark] .colab-df-convert {\n",
              "      background-color: #3B4455;\n",
              "      fill: #D2E3FC;\n",
              "    }\n",
              "\n",
              "    [theme=dark] .colab-df-convert:hover {\n",
              "      background-color: #434B5C;\n",
              "      box-shadow: 0px 1px 3px 1px rgba(0, 0, 0, 0.15);\n",
              "      filter: drop-shadow(0px 1px 2px rgba(0, 0, 0, 0.3));\n",
              "      fill: #FFFFFF;\n",
              "    }\n",
              "  </style>\n",
              "\n",
              "      <script>\n",
              "        const buttonEl =\n",
              "          document.querySelector('#df-00f233ab-8bb6-4361-a3f8-df6b3318f1c1 button.colab-df-convert');\n",
              "        buttonEl.style.display =\n",
              "          google.colab.kernel.accessAllowed ? 'block' : 'none';\n",
              "\n",
              "        async function convertToInteractive(key) {\n",
              "          const element = document.querySelector('#df-00f233ab-8bb6-4361-a3f8-df6b3318f1c1');\n",
              "          const dataTable =\n",
              "            await google.colab.kernel.invokeFunction('convertToInteractive',\n",
              "                                                     [key], {});\n",
              "          if (!dataTable) return;\n",
              "\n",
              "          const docLinkHtml = 'Like what you see? Visit the ' +\n",
              "            '<a target=\"_blank\" href=https://colab.research.google.com/notebooks/data_table.ipynb>data table notebook</a>'\n",
              "            + ' to learn more about interactive tables.';\n",
              "          element.innerHTML = '';\n",
              "          dataTable['output_type'] = 'display_data';\n",
              "          await google.colab.output.renderOutput(dataTable, element);\n",
              "          const docLink = document.createElement('div');\n",
              "          docLink.innerHTML = docLinkHtml;\n",
              "          element.appendChild(docLink);\n",
              "        }\n",
              "      </script>\n",
              "    </div>\n",
              "  </div>\n",
              "  "
            ]
          },
          "metadata": {},
          "execution_count": 17
        }
      ]
    },
    {
      "cell_type": "code",
      "source": [
        "from pandas.io.formats.info import DataFrameTableBuilderVerbose\n",
        "#fill the na value with median and mean\n",
        "df['Half Bath']=df['Half Bath'].fillna(df['Half Bath'].median(),axis=0)\n",
        "df['Full Bath']=df['Full Bath'].fillna(df['Full Bath'].median(),axis=0)\n",
        "df['Bedrooms']=df['Bedrooms'].fillna(df['Bedrooms'].median(),axis=0)\n",
        "df['Foundation Type']=df['Foundation Type'].fillna(df['Foundation Type'].median(),axis=0)\n",
        "df['Finished Area']=df['Finished Area'].fillna(df['Finished Area'].mean(),axis=0)\n",
        "df['Building Value']=df['Building Value'].fillna(df['Building Value'].mean(),axis=0)\n",
        "df.isnull().sum()"
      ],
      "metadata": {
        "colab": {
          "base_uri": "https://localhost:8080/"
        },
        "id": "hhSsJA511v9J",
        "outputId": "96aaa2eb-1095-40ab-abc7-dcd16ddfed2f"
      },
      "execution_count": null,
      "outputs": [
        {
          "output_type": "execute_result",
          "data": {
            "text/plain": [
              "Unnamed: 0                               0\n",
              "Parcel ID                                0\n",
              "Land Use                                 0\n",
              "Property Address                         2\n",
              "Suite/ Condo   #                     22651\n",
              "Property City                            2\n",
              "Sale Date                                0\n",
              "Legal Reference                          0\n",
              "Sold As Vacant                           0\n",
              "Multiple Parcels Involved in Sale        0\n",
              "City                                     0\n",
              "State                                    0\n",
              "Acreage                                  0\n",
              "Tax District                             0\n",
              "Neighborhood                             0\n",
              "Land Value                               0\n",
              "Building Value                           0\n",
              "Finished Area                            0\n",
              "Foundation Type                          0\n",
              "Year Built                               0\n",
              "Exterior Wall                            0\n",
              "Grade                                    0\n",
              "Bedrooms                                 0\n",
              "Full Bath                                0\n",
              "Half Bath                                0\n",
              "Sale Price Compared To Value             0\n",
              "dtype: int64"
            ]
          },
          "metadata": {},
          "execution_count": 18
        }
      ]
    },
    {
      "cell_type": "code",
      "source": [
        "\n",
        "#drop the entire column that is empty ==>Suite/condo number\n",
        "df=df.drop(df.columns[[4]],axis=1)\n",
        "df\n",
        "df.isnull().sum()"
      ],
      "metadata": {
        "colab": {
          "base_uri": "https://localhost:8080/"
        },
        "id": "ucKcf_DR3kYE",
        "outputId": "baaa10a0-931f-4d0d-d64d-df725705c880"
      },
      "execution_count": null,
      "outputs": [
        {
          "output_type": "execute_result",
          "data": {
            "text/plain": [
              "Unnamed: 0                           0\n",
              "Parcel ID                            0\n",
              "Land Use                             0\n",
              "Property Address                     2\n",
              "Property City                        2\n",
              "Sale Date                            0\n",
              "Legal Reference                      0\n",
              "Sold As Vacant                       0\n",
              "Multiple Parcels Involved in Sale    0\n",
              "City                                 0\n",
              "State                                0\n",
              "Acreage                              0\n",
              "Tax District                         0\n",
              "Neighborhood                         0\n",
              "Land Value                           0\n",
              "Building Value                       0\n",
              "Finished Area                        0\n",
              "Foundation Type                      0\n",
              "Year Built                           0\n",
              "Exterior Wall                        0\n",
              "Grade                                0\n",
              "Bedrooms                             0\n",
              "Full Bath                            0\n",
              "Half Bath                            0\n",
              "Sale Price Compared To Value         0\n",
              "dtype: int64"
            ]
          },
          "metadata": {},
          "execution_count": 19
        }
      ]
    },
    {
      "cell_type": "code",
      "source": [
        "#dropping the 2 missing values from city and adress as we cant fill them\n",
        "\n",
        "#drop the missing value for 2 address and city\n",
        "df=df.dropna(axis=0,how='any',inplace=False)\n",
        "df"
      ],
      "metadata": {
        "colab": {
          "base_uri": "https://localhost:8080/",
          "height": 887
        },
        "id": "n1U1Z1ZE3ko3",
        "outputId": "26a0a2ec-5d1b-4423-e089-8b45e31676e1"
      },
      "execution_count": null,
      "outputs": [
        {
          "output_type": "execute_result",
          "data": {
            "text/plain": [
              "       Unnamed: 0        Parcel ID  Land Use       Property Address  \\\n",
              "0               1  105 11 0 080.00         3       1802  STEWART PL   \n",
              "1               2  118 03 0 130.00         3      2761  ROSEDALE PL   \n",
              "2               3  119 01 0 479.00         3      224  PEACHTREE ST   \n",
              "3               4  119 05 0 186.00         3          316  LUTIE ST   \n",
              "4               5  119 05 0 387.00         3       2626  FOSTER AVE   \n",
              "...           ...              ...       ...                    ...   \n",
              "22646       56602  176 01 0 003.00         3     4617 ROCKLAND  TRL   \n",
              "22647       56605  176 05 0 070.00         3      5004 SUNSHINE  DR   \n",
              "22648       56607  176 09 0 003.00         3  4964 HICKORY WOODS  E   \n",
              "22649       56614  082 05 0 040.00         3        1625 5TH  AVE N   \n",
              "22650       56615  082 05 0 058.00         3        1614 5TH  AVE N   \n",
              "\n",
              "      Property City   Sale Date   Legal Reference  Sold As Vacant  \\\n",
              "0         NASHVILLE   1/11/2013  20130118-0006337               0   \n",
              "1         NASHVILLE   1/18/2013  20130124-0008033               0   \n",
              "2         NASHVILLE   1/18/2013  20130128-0008863               0   \n",
              "3         NASHVILLE   1/23/2013  20130131-0009929               0   \n",
              "4         NASHVILLE    1/4/2013  20130118-0006110               0   \n",
              "...             ...         ...               ...             ...   \n",
              "22646       ANTIOCH  10/13/2016  20161019-0110290               0   \n",
              "22647       ANTIOCH  10/26/2016  20161102-0115842               0   \n",
              "22648       ANTIOCH  10/28/2016  20161031-0114817               0   \n",
              "22649     NASHVILLE  10/28/2016  20161102-0115988               0   \n",
              "22650     NASHVILLE  10/26/2016  20161101-0115366               0   \n",
              "\n",
              "       Multiple Parcels Involved in Sale       City  ... Building Value  \\\n",
              "0                                      0  NASHVILLE  ...         134400   \n",
              "1                                      0  NASHVILLE  ...         157800   \n",
              "2                                      0  NASHVILLE  ...         243700   \n",
              "3                                      0  NASHVILLE  ...         138100   \n",
              "4                                      0  NASHVILLE  ...          86100   \n",
              "...                                  ...        ...  ...            ...   \n",
              "22646                                  0    ANTIOCH  ...         105000   \n",
              "22647                                  0    ANTIOCH  ...         142400   \n",
              "22648                                  0    ANTIOCH  ...         159300   \n",
              "22649                                  0  NASHVILLE  ...         204100   \n",
              "22650                                  0  NASHVILLE  ...         295900   \n",
              "\n",
              "       Finished Area Foundation Type  Year Built  Exterior Wall  Grade  \\\n",
              "0         1149.00000               3        1941              0      3   \n",
              "1         2090.82495               4        2000              1      3   \n",
              "2         2145.60001               1        1948              1      2   \n",
              "3         1969.00000               0        1910              3      3   \n",
              "4         1037.00000               0        1945              3      3   \n",
              "...              ...             ...         ...            ...    ...   \n",
              "22646     1758.00000               0        1996              1      3   \n",
              "22647     2421.00000               4        1996              1      3   \n",
              "22648     3117.00000               4        1995              1      3   \n",
              "22649     1637.00000               0        2004              3      2   \n",
              "22650     2478.00000               0        2005              3      2   \n",
              "\n",
              "       Bedrooms  Full Bath  Half Bath  Sale Price Compared To Value  \n",
              "0           2.0        1.0        0.0                             0  \n",
              "1           3.0        2.0        1.0                             0  \n",
              "2           4.0        2.0        0.0                             1  \n",
              "3           2.0        1.0        0.0                             1  \n",
              "4           2.0        1.0        0.0                             1  \n",
              "...         ...        ...        ...                           ...  \n",
              "22646       3.0        2.0        0.0                             0  \n",
              "22647       3.0        3.0        0.0                             0  \n",
              "22648       3.0        3.0        0.0                             0  \n",
              "22649       3.0        2.0        1.0                             0  \n",
              "22650       4.0        3.0        1.0                             0  \n",
              "\n",
              "[22649 rows x 25 columns]"
            ],
            "text/html": [
              "\n",
              "  <div id=\"df-96dea460-11a0-49be-8c64-d4a817bc02cc\">\n",
              "    <div class=\"colab-df-container\">\n",
              "      <div>\n",
              "<style scoped>\n",
              "    .dataframe tbody tr th:only-of-type {\n",
              "        vertical-align: middle;\n",
              "    }\n",
              "\n",
              "    .dataframe tbody tr th {\n",
              "        vertical-align: top;\n",
              "    }\n",
              "\n",
              "    .dataframe thead th {\n",
              "        text-align: right;\n",
              "    }\n",
              "</style>\n",
              "<table border=\"1\" class=\"dataframe\">\n",
              "  <thead>\n",
              "    <tr style=\"text-align: right;\">\n",
              "      <th></th>\n",
              "      <th>Unnamed: 0</th>\n",
              "      <th>Parcel ID</th>\n",
              "      <th>Land Use</th>\n",
              "      <th>Property Address</th>\n",
              "      <th>Property City</th>\n",
              "      <th>Sale Date</th>\n",
              "      <th>Legal Reference</th>\n",
              "      <th>Sold As Vacant</th>\n",
              "      <th>Multiple Parcels Involved in Sale</th>\n",
              "      <th>City</th>\n",
              "      <th>...</th>\n",
              "      <th>Building Value</th>\n",
              "      <th>Finished Area</th>\n",
              "      <th>Foundation Type</th>\n",
              "      <th>Year Built</th>\n",
              "      <th>Exterior Wall</th>\n",
              "      <th>Grade</th>\n",
              "      <th>Bedrooms</th>\n",
              "      <th>Full Bath</th>\n",
              "      <th>Half Bath</th>\n",
              "      <th>Sale Price Compared To Value</th>\n",
              "    </tr>\n",
              "  </thead>\n",
              "  <tbody>\n",
              "    <tr>\n",
              "      <th>0</th>\n",
              "      <td>1</td>\n",
              "      <td>105 11 0 080.00</td>\n",
              "      <td>3</td>\n",
              "      <td>1802  STEWART PL</td>\n",
              "      <td>NASHVILLE</td>\n",
              "      <td>1/11/2013</td>\n",
              "      <td>20130118-0006337</td>\n",
              "      <td>0</td>\n",
              "      <td>0</td>\n",
              "      <td>NASHVILLE</td>\n",
              "      <td>...</td>\n",
              "      <td>134400</td>\n",
              "      <td>1149.00000</td>\n",
              "      <td>3</td>\n",
              "      <td>1941</td>\n",
              "      <td>0</td>\n",
              "      <td>3</td>\n",
              "      <td>2.0</td>\n",
              "      <td>1.0</td>\n",
              "      <td>0.0</td>\n",
              "      <td>0</td>\n",
              "    </tr>\n",
              "    <tr>\n",
              "      <th>1</th>\n",
              "      <td>2</td>\n",
              "      <td>118 03 0 130.00</td>\n",
              "      <td>3</td>\n",
              "      <td>2761  ROSEDALE PL</td>\n",
              "      <td>NASHVILLE</td>\n",
              "      <td>1/18/2013</td>\n",
              "      <td>20130124-0008033</td>\n",
              "      <td>0</td>\n",
              "      <td>0</td>\n",
              "      <td>NASHVILLE</td>\n",
              "      <td>...</td>\n",
              "      <td>157800</td>\n",
              "      <td>2090.82495</td>\n",
              "      <td>4</td>\n",
              "      <td>2000</td>\n",
              "      <td>1</td>\n",
              "      <td>3</td>\n",
              "      <td>3.0</td>\n",
              "      <td>2.0</td>\n",
              "      <td>1.0</td>\n",
              "      <td>0</td>\n",
              "    </tr>\n",
              "    <tr>\n",
              "      <th>2</th>\n",
              "      <td>3</td>\n",
              "      <td>119 01 0 479.00</td>\n",
              "      <td>3</td>\n",
              "      <td>224  PEACHTREE ST</td>\n",
              "      <td>NASHVILLE</td>\n",
              "      <td>1/18/2013</td>\n",
              "      <td>20130128-0008863</td>\n",
              "      <td>0</td>\n",
              "      <td>0</td>\n",
              "      <td>NASHVILLE</td>\n",
              "      <td>...</td>\n",
              "      <td>243700</td>\n",
              "      <td>2145.60001</td>\n",
              "      <td>1</td>\n",
              "      <td>1948</td>\n",
              "      <td>1</td>\n",
              "      <td>2</td>\n",
              "      <td>4.0</td>\n",
              "      <td>2.0</td>\n",
              "      <td>0.0</td>\n",
              "      <td>1</td>\n",
              "    </tr>\n",
              "    <tr>\n",
              "      <th>3</th>\n",
              "      <td>4</td>\n",
              "      <td>119 05 0 186.00</td>\n",
              "      <td>3</td>\n",
              "      <td>316  LUTIE ST</td>\n",
              "      <td>NASHVILLE</td>\n",
              "      <td>1/23/2013</td>\n",
              "      <td>20130131-0009929</td>\n",
              "      <td>0</td>\n",
              "      <td>0</td>\n",
              "      <td>NASHVILLE</td>\n",
              "      <td>...</td>\n",
              "      <td>138100</td>\n",
              "      <td>1969.00000</td>\n",
              "      <td>0</td>\n",
              "      <td>1910</td>\n",
              "      <td>3</td>\n",
              "      <td>3</td>\n",
              "      <td>2.0</td>\n",
              "      <td>1.0</td>\n",
              "      <td>0.0</td>\n",
              "      <td>1</td>\n",
              "    </tr>\n",
              "    <tr>\n",
              "      <th>4</th>\n",
              "      <td>5</td>\n",
              "      <td>119 05 0 387.00</td>\n",
              "      <td>3</td>\n",
              "      <td>2626  FOSTER AVE</td>\n",
              "      <td>NASHVILLE</td>\n",
              "      <td>1/4/2013</td>\n",
              "      <td>20130118-0006110</td>\n",
              "      <td>0</td>\n",
              "      <td>0</td>\n",
              "      <td>NASHVILLE</td>\n",
              "      <td>...</td>\n",
              "      <td>86100</td>\n",
              "      <td>1037.00000</td>\n",
              "      <td>0</td>\n",
              "      <td>1945</td>\n",
              "      <td>3</td>\n",
              "      <td>3</td>\n",
              "      <td>2.0</td>\n",
              "      <td>1.0</td>\n",
              "      <td>0.0</td>\n",
              "      <td>1</td>\n",
              "    </tr>\n",
              "    <tr>\n",
              "      <th>...</th>\n",
              "      <td>...</td>\n",
              "      <td>...</td>\n",
              "      <td>...</td>\n",
              "      <td>...</td>\n",
              "      <td>...</td>\n",
              "      <td>...</td>\n",
              "      <td>...</td>\n",
              "      <td>...</td>\n",
              "      <td>...</td>\n",
              "      <td>...</td>\n",
              "      <td>...</td>\n",
              "      <td>...</td>\n",
              "      <td>...</td>\n",
              "      <td>...</td>\n",
              "      <td>...</td>\n",
              "      <td>...</td>\n",
              "      <td>...</td>\n",
              "      <td>...</td>\n",
              "      <td>...</td>\n",
              "      <td>...</td>\n",
              "      <td>...</td>\n",
              "    </tr>\n",
              "    <tr>\n",
              "      <th>22646</th>\n",
              "      <td>56602</td>\n",
              "      <td>176 01 0 003.00</td>\n",
              "      <td>3</td>\n",
              "      <td>4617 ROCKLAND  TRL</td>\n",
              "      <td>ANTIOCH</td>\n",
              "      <td>10/13/2016</td>\n",
              "      <td>20161019-0110290</td>\n",
              "      <td>0</td>\n",
              "      <td>0</td>\n",
              "      <td>ANTIOCH</td>\n",
              "      <td>...</td>\n",
              "      <td>105000</td>\n",
              "      <td>1758.00000</td>\n",
              "      <td>0</td>\n",
              "      <td>1996</td>\n",
              "      <td>1</td>\n",
              "      <td>3</td>\n",
              "      <td>3.0</td>\n",
              "      <td>2.0</td>\n",
              "      <td>0.0</td>\n",
              "      <td>0</td>\n",
              "    </tr>\n",
              "    <tr>\n",
              "      <th>22647</th>\n",
              "      <td>56605</td>\n",
              "      <td>176 05 0 070.00</td>\n",
              "      <td>3</td>\n",
              "      <td>5004 SUNSHINE  DR</td>\n",
              "      <td>ANTIOCH</td>\n",
              "      <td>10/26/2016</td>\n",
              "      <td>20161102-0115842</td>\n",
              "      <td>0</td>\n",
              "      <td>0</td>\n",
              "      <td>ANTIOCH</td>\n",
              "      <td>...</td>\n",
              "      <td>142400</td>\n",
              "      <td>2421.00000</td>\n",
              "      <td>4</td>\n",
              "      <td>1996</td>\n",
              "      <td>1</td>\n",
              "      <td>3</td>\n",
              "      <td>3.0</td>\n",
              "      <td>3.0</td>\n",
              "      <td>0.0</td>\n",
              "      <td>0</td>\n",
              "    </tr>\n",
              "    <tr>\n",
              "      <th>22648</th>\n",
              "      <td>56607</td>\n",
              "      <td>176 09 0 003.00</td>\n",
              "      <td>3</td>\n",
              "      <td>4964 HICKORY WOODS  E</td>\n",
              "      <td>ANTIOCH</td>\n",
              "      <td>10/28/2016</td>\n",
              "      <td>20161031-0114817</td>\n",
              "      <td>0</td>\n",
              "      <td>0</td>\n",
              "      <td>ANTIOCH</td>\n",
              "      <td>...</td>\n",
              "      <td>159300</td>\n",
              "      <td>3117.00000</td>\n",
              "      <td>4</td>\n",
              "      <td>1995</td>\n",
              "      <td>1</td>\n",
              "      <td>3</td>\n",
              "      <td>3.0</td>\n",
              "      <td>3.0</td>\n",
              "      <td>0.0</td>\n",
              "      <td>0</td>\n",
              "    </tr>\n",
              "    <tr>\n",
              "      <th>22649</th>\n",
              "      <td>56614</td>\n",
              "      <td>082 05 0 040.00</td>\n",
              "      <td>3</td>\n",
              "      <td>1625 5TH  AVE N</td>\n",
              "      <td>NASHVILLE</td>\n",
              "      <td>10/28/2016</td>\n",
              "      <td>20161102-0115988</td>\n",
              "      <td>0</td>\n",
              "      <td>0</td>\n",
              "      <td>NASHVILLE</td>\n",
              "      <td>...</td>\n",
              "      <td>204100</td>\n",
              "      <td>1637.00000</td>\n",
              "      <td>0</td>\n",
              "      <td>2004</td>\n",
              "      <td>3</td>\n",
              "      <td>2</td>\n",
              "      <td>3.0</td>\n",
              "      <td>2.0</td>\n",
              "      <td>1.0</td>\n",
              "      <td>0</td>\n",
              "    </tr>\n",
              "    <tr>\n",
              "      <th>22650</th>\n",
              "      <td>56615</td>\n",
              "      <td>082 05 0 058.00</td>\n",
              "      <td>3</td>\n",
              "      <td>1614 5TH  AVE N</td>\n",
              "      <td>NASHVILLE</td>\n",
              "      <td>10/26/2016</td>\n",
              "      <td>20161101-0115366</td>\n",
              "      <td>0</td>\n",
              "      <td>0</td>\n",
              "      <td>NASHVILLE</td>\n",
              "      <td>...</td>\n",
              "      <td>295900</td>\n",
              "      <td>2478.00000</td>\n",
              "      <td>0</td>\n",
              "      <td>2005</td>\n",
              "      <td>3</td>\n",
              "      <td>2</td>\n",
              "      <td>4.0</td>\n",
              "      <td>3.0</td>\n",
              "      <td>1.0</td>\n",
              "      <td>0</td>\n",
              "    </tr>\n",
              "  </tbody>\n",
              "</table>\n",
              "<p>22649 rows × 25 columns</p>\n",
              "</div>\n",
              "      <button class=\"colab-df-convert\" onclick=\"convertToInteractive('df-96dea460-11a0-49be-8c64-d4a817bc02cc')\"\n",
              "              title=\"Convert this dataframe to an interactive table.\"\n",
              "              style=\"display:none;\">\n",
              "        \n",
              "  <svg xmlns=\"http://www.w3.org/2000/svg\" height=\"24px\"viewBox=\"0 0 24 24\"\n",
              "       width=\"24px\">\n",
              "    <path d=\"M0 0h24v24H0V0z\" fill=\"none\"/>\n",
              "    <path d=\"M18.56 5.44l.94 2.06.94-2.06 2.06-.94-2.06-.94-.94-2.06-.94 2.06-2.06.94zm-11 1L8.5 8.5l.94-2.06 2.06-.94-2.06-.94L8.5 2.5l-.94 2.06-2.06.94zm10 10l.94 2.06.94-2.06 2.06-.94-2.06-.94-.94-2.06-.94 2.06-2.06.94z\"/><path d=\"M17.41 7.96l-1.37-1.37c-.4-.4-.92-.59-1.43-.59-.52 0-1.04.2-1.43.59L10.3 9.45l-7.72 7.72c-.78.78-.78 2.05 0 2.83L4 21.41c.39.39.9.59 1.41.59.51 0 1.02-.2 1.41-.59l7.78-7.78 2.81-2.81c.8-.78.8-2.07 0-2.86zM5.41 20L4 18.59l7.72-7.72 1.47 1.35L5.41 20z\"/>\n",
              "  </svg>\n",
              "      </button>\n",
              "      \n",
              "  <style>\n",
              "    .colab-df-container {\n",
              "      display:flex;\n",
              "      flex-wrap:wrap;\n",
              "      gap: 12px;\n",
              "    }\n",
              "\n",
              "    .colab-df-convert {\n",
              "      background-color: #E8F0FE;\n",
              "      border: none;\n",
              "      border-radius: 50%;\n",
              "      cursor: pointer;\n",
              "      display: none;\n",
              "      fill: #1967D2;\n",
              "      height: 32px;\n",
              "      padding: 0 0 0 0;\n",
              "      width: 32px;\n",
              "    }\n",
              "\n",
              "    .colab-df-convert:hover {\n",
              "      background-color: #E2EBFA;\n",
              "      box-shadow: 0px 1px 2px rgba(60, 64, 67, 0.3), 0px 1px 3px 1px rgba(60, 64, 67, 0.15);\n",
              "      fill: #174EA6;\n",
              "    }\n",
              "\n",
              "    [theme=dark] .colab-df-convert {\n",
              "      background-color: #3B4455;\n",
              "      fill: #D2E3FC;\n",
              "    }\n",
              "\n",
              "    [theme=dark] .colab-df-convert:hover {\n",
              "      background-color: #434B5C;\n",
              "      box-shadow: 0px 1px 3px 1px rgba(0, 0, 0, 0.15);\n",
              "      filter: drop-shadow(0px 1px 2px rgba(0, 0, 0, 0.3));\n",
              "      fill: #FFFFFF;\n",
              "    }\n",
              "  </style>\n",
              "\n",
              "      <script>\n",
              "        const buttonEl =\n",
              "          document.querySelector('#df-96dea460-11a0-49be-8c64-d4a817bc02cc button.colab-df-convert');\n",
              "        buttonEl.style.display =\n",
              "          google.colab.kernel.accessAllowed ? 'block' : 'none';\n",
              "\n",
              "        async function convertToInteractive(key) {\n",
              "          const element = document.querySelector('#df-96dea460-11a0-49be-8c64-d4a817bc02cc');\n",
              "          const dataTable =\n",
              "            await google.colab.kernel.invokeFunction('convertToInteractive',\n",
              "                                                     [key], {});\n",
              "          if (!dataTable) return;\n",
              "\n",
              "          const docLinkHtml = 'Like what you see? Visit the ' +\n",
              "            '<a target=\"_blank\" href=https://colab.research.google.com/notebooks/data_table.ipynb>data table notebook</a>'\n",
              "            + ' to learn more about interactive tables.';\n",
              "          element.innerHTML = '';\n",
              "          dataTable['output_type'] = 'display_data';\n",
              "          await google.colab.output.renderOutput(dataTable, element);\n",
              "          const docLink = document.createElement('div');\n",
              "          docLink.innerHTML = docLinkHtml;\n",
              "          element.appendChild(docLink);\n",
              "        }\n",
              "      </script>\n",
              "    </div>\n",
              "  </div>\n",
              "  "
            ]
          },
          "metadata": {},
          "execution_count": 20
        }
      ]
    },
    {
      "cell_type": "code",
      "source": [
        "df.isnull().sum()"
      ],
      "metadata": {
        "colab": {
          "base_uri": "https://localhost:8080/"
        },
        "id": "gTi7VikY4SLh",
        "outputId": "37531a83-65fb-465f-83d1-a2166f27092c"
      },
      "execution_count": null,
      "outputs": [
        {
          "output_type": "execute_result",
          "data": {
            "text/plain": [
              "Unnamed: 0                           0\n",
              "Parcel ID                            0\n",
              "Land Use                             0\n",
              "Property Address                     0\n",
              "Property City                        0\n",
              "Sale Date                            0\n",
              "Legal Reference                      0\n",
              "Sold As Vacant                       0\n",
              "Multiple Parcels Involved in Sale    0\n",
              "City                                 0\n",
              "State                                0\n",
              "Acreage                              0\n",
              "Tax District                         0\n",
              "Neighborhood                         0\n",
              "Land Value                           0\n",
              "Building Value                       0\n",
              "Finished Area                        0\n",
              "Foundation Type                      0\n",
              "Year Built                           0\n",
              "Exterior Wall                        0\n",
              "Grade                                0\n",
              "Bedrooms                             0\n",
              "Full Bath                            0\n",
              "Half Bath                            0\n",
              "Sale Price Compared To Value         0\n",
              "dtype: int64"
            ]
          },
          "metadata": {},
          "execution_count": 21
        }
      ]
    },
    {
      "cell_type": "code",
      "source": [
        "#check duplicated vales\n",
        "df.duplicated().sum()\n"
      ],
      "metadata": {
        "colab": {
          "base_uri": "https://localhost:8080/"
        },
        "id": "Sc_gHoRj4Tar",
        "outputId": "7bdb0d36-5c71-4986-ca44-8e6fcc62867e"
      },
      "execution_count": null,
      "outputs": [
        {
          "output_type": "execute_result",
          "data": {
            "text/plain": [
              "0"
            ]
          },
          "metadata": {},
          "execution_count": 22
        }
      ]
    },
    {
      "cell_type": "code",
      "source": [
        "#separating the independent variable and dependent variable for the logistic model and dividing into train and test group\n",
        "y=df[['Sale Price Compared To Value']] #dependent variable\n",
        "x=df[['Land Use','Sold As Vacant','Multiple Parcels Involved in Sale','Acreage','Neighborhood','Land Value','Building Value','Finished Area','Foundation Type','Year Built',\n",
        "          'Exterior Wall','Grade','Bedrooms','Full Bath','Half Bath']]\n",
        "x_train,x_test,y_train,y_test=train_test_split(x,y,test_size=0.2)"
      ],
      "metadata": {
        "id": "bDJeb6xr4XRI"
      },
      "execution_count": null,
      "outputs": []
    },
    {
      "cell_type": "code",
      "source": [
        "corr_matrix=x.corr()#check correlation\n",
        "sns.heatmap(corr_matrix)"
      ],
      "metadata": {
        "colab": {
          "base_uri": "https://localhost:8080/",
          "height": 437
        },
        "id": "uuYi4YZo-4D0",
        "outputId": "846f62b0-79e1-40cb-c2c4-fb6e398b068b"
      },
      "execution_count": null,
      "outputs": [
        {
          "output_type": "execute_result",
          "data": {
            "text/plain": [
              "<matplotlib.axes._subplots.AxesSubplot at 0x7f66d772f280>"
            ]
          },
          "metadata": {},
          "execution_count": 38
        },
        {
          "output_type": "display_data",
          "data": {
            "text/plain": [
              "<Figure size 432x288 with 2 Axes>"
            ],
            "image/png": "[encoded data removed]"
          },
          "metadata": {
            "needs_background": "light"
          }
        }
      ]
    },
    {
      "cell_type": "code",
      "source": [
        "# find the logistic table\n",
        "x1=sm.add_constant(x)\n",
        "logr_model=sm.Logit(y,x1)\n",
        "logr_fit=logr_model.fit()\n",
        "print(logr_fit.summary())"
      ],
      "metadata": {
        "colab": {
          "base_uri": "https://localhost:8080/"
        },
        "id": "Qn0MBxSG4XWO",
        "outputId": "1c9a16ce-2e42-486e-c708-5e952bad0ce8"
      },
      "execution_count": null,
      "outputs": [
        {
          "output_type": "stream",
          "name": "stderr",
          "text": [
            "/usr/local/lib/python3.8/dist-packages/statsmodels/tsa/tsatools.py:142: FutureWarning: In a future version of pandas all arguments of concat except for the argument 'objs' will be keyword-only\n",
            "  x = pd.concat(x[::order], 1)\n"
          ]
        },
        {
          "output_type": "stream",
          "name": "stdout",
          "text": [
            "Optimization terminated successfully.\n",
            "         Current function value: 0.548367\n",
            "         Iterations 6\n",
            "                                Logit Regression Results                                \n",
            "========================================================================================\n",
            "Dep. Variable:     Sale Price Compared To Value   No. Observations:                22649\n",
            "Model:                                    Logit   Df Residuals:                    22633\n",
            "Method:                                     MLE   Df Model:                           15\n",
            "Date:                          Mon, 05 Dec 2022   Pseudo R-squ.:                 0.01971\n",
            "Time:                                  02:20:46   Log-Likelihood:                -12420.\n",
            "converged:                                 True   LL-Null:                       -12670.\n",
            "Covariance Type:                      nonrobust   LLR p-value:                 7.277e-97\n",
            "=====================================================================================================\n",
            "                                        coef    std err          z      P>|z|      [0.025      0.975]\n",
            "-----------------------------------------------------------------------------------------------------\n",
            "const                                 3.6012      1.324      2.720      0.007       1.007       6.196\n",
            "Land Use                             -0.0731      0.024     -3.002      0.003      -0.121      -0.025\n",
            "Sold As Vacant                        3.1640      0.279     11.356      0.000       2.618       3.710\n",
            "Multiple Parcels Involved in Sale    -0.5004      0.126     -3.958      0.000      -0.748      -0.253\n",
            "Acreage                               0.0601      0.028      2.126      0.034       0.005       0.116\n",
            "Neighborhood                       2.101e-05   7.98e-06      2.632      0.008    5.36e-06    3.67e-05\n",
            "Land Value                        -1.391e-06   2.25e-07     -6.172      0.000   -1.83e-06   -9.49e-07\n",
            "Building Value                       1.2e-06   1.85e-07      6.492      0.000    8.38e-07    1.56e-06\n",
            "Finished Area                      4.821e-05   3.77e-05      1.277      0.202   -2.58e-05       0.000\n",
            "Foundation Type                      -0.0278      0.013     -2.221      0.026      -0.052      -0.003\n",
            "Year Built                           -0.0025      0.001     -3.637      0.000      -0.004      -0.001\n",
            "Exterior Wall                         0.0100      0.010      1.018      0.309      -0.009       0.029\n",
            "Grade                                 0.0073      0.014      0.515      0.607      -0.021       0.035\n",
            "Bedrooms                             -0.0235      0.026     -0.911      0.362      -0.074       0.027\n",
            "Full Bath                             0.0361      0.030      1.187      0.235      -0.023       0.096\n",
            "Half Bath                             0.0105      0.039      0.270      0.788      -0.066       0.087\n",
            "=====================================================================================================\n"
          ]
        }
      ]
    },
    {
      "cell_type": "code",
      "source": [],
      "metadata": {
        "id": "sUqxX4gORat8"
      },
      "execution_count": null,
      "outputs": []
    },
    {
      "cell_type": "code",
      "source": [
        "import time\n",
        "import math\n",
        "from math import sqrt\n",
        "from sklearn.metrics import mean_squared_error"
      ],
      "metadata": {
        "id": "xiuBFfpwVRXk"
      },
      "execution_count": null,
      "outputs": []
    },
    {
      "cell_type": "code",
      "source": [
        "#logistic model\n",
        "logreg=LogisticRegression()\n",
        "start = time.time()\n",
        "loggreg_final=logreg.fit(x_train,y_train)\n",
        "end = time.time()\n",
        "print(loggreg_final.score(x_train,y_train))\n",
        "y_pred=logreg.predict(x_test)\n",
        "#print('AIC '+ logreg.aic)\n",
        "print('Model fit(RMSE):')\n",
        "rmse1=sqrt(mean_squared_error(y_test,logreg.predict(x_test)))\n",
        "print(rmse1)\n",
        "print('Time taken:')\n",
        "print((end - start))\n",
        "print('Confusion Matrix: ')\n",
        "print(confusion_matrix(y_test, y_pred))\n",
        "print('Report:')\n",
        "print(classification_report(y_test, y_pred))\n"
      ],
      "metadata": {
        "colab": {
          "base_uri": "https://localhost:8080/"
        },
        "id": "iCGKZwKu4XYb",
        "outputId": "0c952d80-263c-4c6f-cc5b-aaaf0f17239e"
      },
      "execution_count": null,
      "outputs": [
        {
          "output_type": "stream",
          "name": "stderr",
          "text": [
            "/usr/local/lib/python3.8/dist-packages/sklearn/utils/validation.py:993: DataConversionWarning: A column-vector y was passed when a 1d array was expected. Please change the shape of y to (n_samples, ), for example using ravel().\n",
            "  y = column_or_1d(y, warn=True)\n"
          ]
        },
        {
          "output_type": "stream",
          "name": "stdout",
          "text": [
            "0.7509244439538606\n",
            "Model fit(RMSE):\n",
            "0.48804697056186475\n",
            "Time taken:\n",
            "0.6162691116333008\n",
            "Confusion Matrix: \n",
            "[[3434   11]\n",
            " [1068   17]]\n",
            "Report:\n",
            "              precision    recall  f1-score   support\n",
            "\n",
            "           0       0.76      1.00      0.86      3445\n",
            "           1       0.61      0.02      0.03      1085\n",
            "\n",
            "    accuracy                           0.76      4530\n",
            "   macro avg       0.68      0.51      0.45      4530\n",
            "weighted avg       0.73      0.76      0.66      4530\n",
            "\n"
          ]
        }
      ]
    },
    {
      "cell_type": "code",
      "source": [
        "\n",
        "elapsed_time_secs1 =  end-start\n",
        "\n",
        "\n",
        "\n",
        "print(\"Accuracy:\",metrics.accuracy_score(y_test, y_pred))\n",
        "accuracy1=metrics.accuracy_score(y_test, y_pred)\n",
        "\n",
        "print(\"Precision:\",metrics.precision_score(y_test, y_pred))\n",
        "\n",
        "\n",
        "print(\"Recall:\",metrics.recall_score(y_test, y_pred))\n"
      ],
      "metadata": {
        "colab": {
          "base_uri": "https://localhost:8080/"
        },
        "id": "v1krUecQZmzN",
        "outputId": "4cf42d8a-2c7f-4c2c-9971-d3a877a9a95b"
      },
      "execution_count": null,
      "outputs": [
        {
          "output_type": "stream",
          "name": "stdout",
          "text": [
            "Accuracy: 0.7618101545253864\n",
            "Precision: 0.6071428571428571\n",
            "Recall: 0.01566820276497696\n"
          ]
        }
      ]
    },
    {
      "cell_type": "code",
      "source": [
        "#decision tree\n",
        "treemodel=DecisionTreeClassifier(max_depth=3)\n",
        "start = time.time()\n",
        "treefinal=treemodel.fit(x_train,y_train)\n",
        "end = time.time()\n",
        "plt.figure(figsize=(25,10))\n",
        "plot=tree.plot_tree(treefinal,feature_names=x.columns.values.tolist(),class_names=['0','1'],filled=True,rounded=True,fontsize=15)"
      ],
      "metadata": {
        "colab": {
          "base_uri": "https://localhost:8080/",
          "height": 575
        },
        "id": "BJxJL0pAZm1U",
        "outputId": "76fc6e36-acb2-4c52-dfd8-3c3a5c528baa"
      },
      "execution_count": null,
      "outputs": [
        {
          "output_type": "display_data",
          "data": {
            "text/plain": [
              "<Figure size 1800x720 with 1 Axes>"
            ],
            "image/png": "[encoded data removed]"
          },
          "metadata": {
            "needs_background": "light"
          }
        }
      ]
    },
    {
      "cell_type": "code",
      "source": [
        "#some features for the decision tree model\n",
        "y_pred2=treefinal.predict(x_test)\n",
        "\n",
        "print('Model fit(RMSE):')\n",
        "rmse2=sqrt(mean_squared_error(y_test,treemodel.predict(x_test)))\n",
        "print(rmse2)\n",
        "print('Time taken:')\n",
        "print( end - start)\n",
        "print('Confusion Matrix: ')\n",
        "print(confusion_matrix(y_test, y_pred2))\n",
        "print('Report:')\n",
        "print(classification_report(y_test, y_pred2))"
      ],
      "metadata": {
        "colab": {
          "base_uri": "https://localhost:8080/"
        },
        "id": "0zDX-_4N4xR3",
        "outputId": "7e13e6f6-02ba-4044-c534-eb50e53ee65a"
      },
      "execution_count": null,
      "outputs": [
        {
          "output_type": "stream",
          "name": "stdout",
          "text": [
            "Model fit(RMSE):\n",
            "0.4816729492322307\n",
            "Time taken:\n",
            "0.05339813232421875\n",
            "Confusion Matrix: \n",
            "[[3434   11]\n",
            " [1040   45]]\n",
            "Report:\n",
            "              precision    recall  f1-score   support\n",
            "\n",
            "           0       0.77      1.00      0.87      3445\n",
            "           1       0.80      0.04      0.08      1085\n",
            "\n",
            "    accuracy                           0.77      4530\n",
            "   macro avg       0.79      0.52      0.47      4530\n",
            "weighted avg       0.78      0.77      0.68      4530\n",
            "\n"
          ]
        }
      ]
    },
    {
      "cell_type": "code",
      "source": [
        "elapsed_time_secs2 =  end-start\n",
        "\n",
        "\n",
        "\n",
        "print(\"Accuracy:\",metrics.accuracy_score(y_test, y_pred2))\n",
        "accuracy2=metrics.accuracy_score(y_test, y_pred2)\n",
        "\n",
        "print(\"Precision:\",metrics.precision_score(y_test, y_pred2))\n",
        "\n",
        "\n",
        "print(\"Recall:\",metrics.recall_score(y_test, y_pred2))\n",
        "\n"
      ],
      "metadata": {
        "colab": {
          "base_uri": "https://localhost:8080/"
        },
        "id": "7QPXvH7aosRQ",
        "outputId": "2e758ed4-7a6a-44d9-c210-716f76778f8d"
      },
      "execution_count": null,
      "outputs": [
        {
          "output_type": "stream",
          "name": "stdout",
          "text": [
            "Accuracy: 0.7679911699779249\n",
            "Precision: 0.8035714285714286\n",
            "Recall: 0.041474654377880185\n"
          ]
        }
      ]
    },
    {
      "cell_type": "code",
      "source": [
        "# random forest model\n",
        "rfclass=RandomForestClassifier(n_estimators=20,random_state=0)\n",
        "start = time.time()\n",
        "rfclass.fit(x_train,y_train)\n",
        "end = time.time()\n",
        "y_pred3=rfclass.predict(x_test)\n",
        "\n",
        "print('Model fit(RMSE):')\n",
        "rmse3=sqrt(mean_squared_error(y_test,rfclass.predict(x_test)))\n",
        "print(rmse3)\n",
        "print('Time taken:')\n",
        "print( end - start)\n",
        "print('Confusion Matrix: ')\n",
        "print(confusion_matrix(y_test, y_pred3))\n",
        "print('Report:')\n",
        "print(classification_report(y_test, y_pred3))"
      ],
      "metadata": {
        "colab": {
          "base_uri": "https://localhost:8080/"
        },
        "id": "QJMYDlyk5HDX",
        "outputId": "f8605f47-6922-4057-e0be-3de9c2ca3f67"
      },
      "execution_count": null,
      "outputs": [
        {
          "output_type": "stream",
          "name": "stderr",
          "text": [
            "<ipython-input-31-bd4a2cfe857e>:4: DataConversionWarning: A column-vector y was passed when a 1d array was expected. Please change the shape of y to (n_samples,), for example using ravel().\n",
            "  rfclass.fit(x_train,y_train)\n"
          ]
        },
        {
          "output_type": "stream",
          "name": "stdout",
          "text": [
            "Model fit(RMSE):\n",
            "0.5236145389792606\n",
            "Time taken:\n",
            "1.5322120189666748\n",
            "Confusion Matrix: \n",
            "[[3108  337]\n",
            " [ 905  180]]\n",
            "Report:\n",
            "              precision    recall  f1-score   support\n",
            "\n",
            "           0       0.77      0.90      0.83      3445\n",
            "           1       0.35      0.17      0.22      1085\n",
            "\n",
            "    accuracy                           0.73      4530\n",
            "   macro avg       0.56      0.53      0.53      4530\n",
            "weighted avg       0.67      0.73      0.69      4530\n",
            "\n"
          ]
        }
      ]
    },
    {
      "cell_type": "code",
      "source": [
        "elapsed_time_secs3 =  end-start\n",
        "\n",
        "\n",
        "accuracy3=metrics.accuracy_score(y_test, y_pred3)\n",
        "\n",
        "print(\"Accuracy:\",accuracy3)\n",
        "\n",
        "print(\"Precision:\",metrics.precision_score(y_test, y_pred3))\n",
        "\n",
        "\n",
        "print(\"Recall:\",metrics.recall_score(y_test, y_pred3))\n",
        "\n"
      ],
      "metadata": {
        "colab": {
          "base_uri": "https://localhost:8080/"
        },
        "id": "gPQflfzEo2k7",
        "outputId": "ab07efcc-b543-4e1f-a4e8-687811cff1be"
      },
      "execution_count": null,
      "outputs": [
        {
          "output_type": "stream",
          "name": "stdout",
          "text": [
            "Accuracy: 0.7258278145695364\n",
            "Precision: 0.3481624758220503\n",
            "Recall: 0.16589861751152074\n"
          ]
        }
      ]
    },
    {
      "cell_type": "code",
      "source": [
        "#Gradient Boosting model\n",
        "gbclass=GradientBoostingClassifier(random_state=0)\n",
        "start = time.time()\n",
        "gbclass.fit(x_train,y_train)\n",
        "end = time.time()\n",
        "y_pred4=gbclass.predict(x_test)\n",
        "\n",
        "print('Model fit(RMSE):')\n",
        "rmse4=sqrt(mean_squared_error(y_test,gbclass.predict(x_test)))\n",
        "print(rmse4)\n",
        "print('Time taken:')\n",
        "print( end - start)\n",
        "print('Confusion Matrix: ')\n",
        "print(confusion_matrix(y_test, y_pred4))\n",
        "print('Report:')\n",
        "print(classification_report(y_test, y_pred4))"
      ],
      "metadata": {
        "colab": {
          "base_uri": "https://localhost:8080/"
        },
        "id": "5Xv1znm55HF0",
        "outputId": "c4fc25cb-929a-41ae-99d5-b6c15d30f80c"
      },
      "execution_count": null,
      "outputs": [
        {
          "output_type": "stream",
          "name": "stderr",
          "text": [
            "/usr/local/lib/python3.8/dist-packages/sklearn/ensemble/_gb.py:494: DataConversionWarning: A column-vector y was passed when a 1d array was expected. Please change the shape of y to (n_samples, ), for example using ravel().\n",
            "  y = column_or_1d(y, warn=True)\n"
          ]
        },
        {
          "output_type": "stream",
          "name": "stdout",
          "text": [
            "Model fit(RMSE):\n",
            "0.48006622059768006\n",
            "Time taken:\n",
            "6.740828990936279\n",
            "Confusion Matrix: \n",
            "[[3420   25]\n",
            " [1019   66]]\n",
            "Report:\n",
            "              precision    recall  f1-score   support\n",
            "\n",
            "           0       0.77      0.99      0.87      3445\n",
            "           1       0.73      0.06      0.11      1085\n",
            "\n",
            "    accuracy                           0.77      4530\n",
            "   macro avg       0.75      0.53      0.49      4530\n",
            "weighted avg       0.76      0.77      0.69      4530\n",
            "\n"
          ]
        }
      ]
    },
    {
      "cell_type": "code",
      "source": [
        "elapsed_time_secs4 = end-start\n",
        "\n",
        "\n",
        "print(\"Accuracy:\",metrics.accuracy_score(y_test, y_pred4))\n",
        "accuracy4=metrics.accuracy_score(y_test, y_pred4)\n",
        "\n",
        "print(\"Precision:\",metrics.precision_score(y_test, y_pred4))\n",
        "\n",
        "\n",
        "print(\"Recall:\",metrics.recall_score(y_test, y_pred4))\n",
        "\n"
      ],
      "metadata": {
        "colab": {
          "base_uri": "https://localhost:8080/"
        },
        "id": "u_e8Ef1Z5sy9",
        "outputId": "de55808a-798a-4f9f-add6-05887a200e9a"
      },
      "execution_count": null,
      "outputs": [
        {
          "output_type": "stream",
          "name": "stdout",
          "text": [
            "Accuracy: 0.7695364238410596\n",
            "Precision: 0.7252747252747253\n",
            "Recall: 0.060829493087557605\n"
          ]
        }
      ]
    },
    {
      "cell_type": "code",
      "source": [
        "from tabulate import tabulate\n",
        "\n",
        "data = [[\"Logistic regression\",accuracy1, rmse1,elapsed_time_secs1],\n",
        "        [\"Decision tree\",accuracy2,rmse2,elapsed_time_secs2],\n",
        "        [\"Random forest\",accuracy3, rmse3,elapsed_time_secs3],\n",
        "        [\"Gradient boosting\",accuracy4, rmse4, elapsed_time_secs4]]\n",
        "\n",
        "col_names = [\"Name\", \"accuracy\",\"rmse\",\"time\"]\n",
        "\n",
        "print(tabulate(data, headers=col_names))"
      ],
      "metadata": {
        "colab": {
          "base_uri": "https://localhost:8080/"
        },
        "id": "JBIHotg55s1d",
        "outputId": "7b2bc616-3ccf-48a0-ce2b-2346bbacc35a"
      },
      "execution_count": null,
      "outputs": [
        {
          "output_type": "stream",
          "name": "stdout",
          "text": [
            "Name                   accuracy      rmse       time\n",
            "-------------------  ----------  --------  ---------\n",
            "Logistic regression    0.76181   0.488047  0.616269\n",
            "Decision tree          0.767991  0.481673  0.0533981\n",
            "Random forest          0.725828  0.523615  1.53221\n",
            "Gradient boosting      0.769536  0.480066  6.74083\n"
          ]
        }
      ]
    },
    {
      "cell_type": "code",
      "source": [],
      "metadata": {
        "id": "LfiUEi3XZ-Az"
      },
      "execution_count": null,
      "outputs": []
    }
  ]
}