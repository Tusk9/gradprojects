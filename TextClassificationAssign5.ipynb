{
  "nbformat": 4,
  "nbformat_minor": 0,
  "metadata": {
    "colab": {
      "provenance": [],
      "include_colab_link": true
    },
    "kernelspec": {
      "name": "python3",
      "display_name": "Python 3"
    },
    "language_info": {
      "name": "python"
    }
  },
  "cells": [
    {
      "cell_type": "markdown",
      "metadata": {
        "id": "view-in-github",
        "colab_type": "text"
      },
      "source": [
        "<a href=\"https://colab.research.google.com/github/Tusk9/gradprojects/blob/main/TextClassificationAssign5.ipynb\" target=\"_parent\"><img src=\"https://colab.research.google.com/assets/colab-badge.svg\" alt=\"Open In Colab\"/></a>"
      ]
    },
    {
      "cell_type": "code",
      "execution_count": null,
      "metadata": {
        "id": "jZ99HnOoQbz_"
      },
      "outputs": [],
      "source": [
        "import numpy as np    # For array operations\n",
        "import pandas as pd   # For DataFrames"
      ]
    },
    {
      "cell_type": "code",
      "source": [
        "df = pd.read_csv(\"/letters.csv\")\n",
        "print(df.shape)"
      ],
      "metadata": {
        "colab": {
          "base_uri": "https://localhost:8080/"
        },
        "id": "3nTgduHDQksU",
        "outputId": "c9459f56-1d70-4808-d983-23fcedf65a4f"
      },
      "execution_count": null,
      "outputs": [
        {
          "output_type": "stream",
          "name": "stdout",
          "text": [
            "(42000, 46)\n"
          ]
        }
      ]
    },
    {
      "cell_type": "code",
      "source": [
        "df.isnull().sum()"
      ],
      "metadata": {
        "colab": {
          "base_uri": "https://localhost:8080/"
        },
        "id": "Pnm1i8bzRGvK",
        "outputId": "b080a4ec-152c-4b49-d322-d7efc649a495"
      },
      "execution_count": null,
      "outputs": [
        {
          "output_type": "execute_result",
          "data": {
            "text/plain": [
              "label       0\n",
              "pixel43     0\n",
              "pixel44     0\n",
              "pixel92     0\n",
              "pixel124    0\n",
              "pixel125    0\n",
              "pixel126    0\n",
              "pixel127    0\n",
              "pixel128    0\n",
              "pixel129    0\n",
              "pixel130    0\n",
              "pixel131    0\n",
              "pixel132    0\n",
              "pixel133    0\n",
              "pixel134    0\n",
              "pixel135    0\n",
              "pixel136    0\n",
              "pixel137    0\n",
              "pixel138    0\n",
              "pixel146    0\n",
              "pixel147    0\n",
              "pixel148    0\n",
              "pixel149    0\n",
              "pixel150    0\n",
              "pixel151    0\n",
              "pixel152    0\n",
              "pixel153    0\n",
              "pixel154    0\n",
              "pixel155    0\n",
              "pixel156    0\n",
              "pixel157    0\n",
              "pixel158    0\n",
              "pixel159    0\n",
              "pixel160    0\n",
              "pixel327    0\n",
              "pixel328    0\n",
              "pixel329    0\n",
              "pixel351    0\n",
              "pixel410    0\n",
              "pixel411    0\n",
              "pixel412    0\n",
              "pixel413    0\n",
              "pixel414    0\n",
              "pixel415    0\n",
              "pixel416    0\n",
              "pixel417    0\n",
              "dtype: int64"
            ]
          },
          "metadata": {},
          "execution_count": 3
        }
      ]
    },
    {
      "cell_type": "code",
      "source": [
        "df.dtypes"
      ],
      "metadata": {
        "colab": {
          "base_uri": "https://localhost:8080/"
        },
        "id": "e4ekc-sTNOmA",
        "outputId": "8c6eb578-b0eb-4cb7-b962-6baca45993c0"
      },
      "execution_count": null,
      "outputs": [
        {
          "output_type": "execute_result",
          "data": {
            "text/plain": [
              "label       int64\n",
              "pixel43     int64\n",
              "pixel44     int64\n",
              "pixel92     int64\n",
              "pixel124    int64\n",
              "pixel125    int64\n",
              "pixel126    int64\n",
              "pixel127    int64\n",
              "pixel128    int64\n",
              "pixel129    int64\n",
              "pixel130    int64\n",
              "pixel131    int64\n",
              "pixel132    int64\n",
              "pixel133    int64\n",
              "pixel134    int64\n",
              "pixel135    int64\n",
              "pixel136    int64\n",
              "pixel137    int64\n",
              "pixel138    int64\n",
              "pixel146    int64\n",
              "pixel147    int64\n",
              "pixel148    int64\n",
              "pixel149    int64\n",
              "pixel150    int64\n",
              "pixel151    int64\n",
              "pixel152    int64\n",
              "pixel153    int64\n",
              "pixel154    int64\n",
              "pixel155    int64\n",
              "pixel156    int64\n",
              "pixel157    int64\n",
              "pixel158    int64\n",
              "pixel159    int64\n",
              "pixel160    int64\n",
              "pixel327    int64\n",
              "pixel328    int64\n",
              "pixel329    int64\n",
              "pixel351    int64\n",
              "pixel410    int64\n",
              "pixel411    int64\n",
              "pixel412    int64\n",
              "pixel413    int64\n",
              "pixel414    int64\n",
              "pixel415    int64\n",
              "pixel416    int64\n",
              "pixel417    int64\n",
              "dtype: object"
            ]
          },
          "metadata": {},
          "execution_count": 4
        }
      ]
    },
    {
      "cell_type": "code",
      "source": [
        "from __future__ import print_function\n",
        "from sklearn.model_selection import train_test_split\n",
        "from sklearn.neighbors import KNeighborsClassifier\n",
        "import tensorflow as tf\n",
        "from tensorflow.keras import datasets, layers, models\n",
        "from sklearn.metrics import confusion_matrix\n",
        "from sklearn.metrics import classification_report\n",
        "from sklearn import datasets\n",
        "from skimage import exposure\n",
        "import numpy as np\n",
        "#import imutils\n",
        "import cv2\n",
        "import matplotlib.pyplot as plt\n",
        "import pandas as pd"
      ],
      "metadata": {
        "id": "hOPnwCLDNOsF"
      },
      "execution_count": null,
      "outputs": []
    },
    {
      "cell_type": "code",
      "source": [
        "# take the MNIST data and construct the training and testing split, using 75% of the\n",
        "# data for training and 25% for testing\n",
        "target=df.label\n",
        "dfK=df.drop('label',axis=1)\n",
        "(trainData, testData, trainLabels, testLabels) = train_test_split(np.array(dfK),\n",
        " target, test_size=0.25, random_state=42)\n",
        "\n",
        "# now, let's take 10% of the training data and use that for validation\n",
        "\n",
        "(trainData, valData, trainLabels, valLabels) = train_test_split(trainData, trainLabels,\n",
        "test_size=0.1, random_state=84)\n",
        "trainData = tf.keras.utils.normalize(trainData, axis=1) #scalling data between 0 and 1 we can also divide X_train, X_test by 255 to normalize data.\n",
        "testData = tf.keras.utils.normalize(testData, axis=1)\n",
        "# show the sizes of each data split\n",
        "\n",
        "print(\"training data points: {}\".format(len(trainLabels)))\n",
        "print(\"validation data points: {}\".format(len(valLabels)))\n",
        "print(\"testing data points: {}\".format(len(testLabels)))\n",
        "\n",
        "# initialize the values of k for our k-Nearest Neighbor classifier along with the\n",
        "# list of accuracies for each value of k\n",
        "\n",
        "kVals = range(1, 30, 2)\n",
        "accuracies = []\n",
        "\n",
        "# loop over various values of `k` for the k-Nearest Neighbor classifier\n",
        "\n",
        "for k in range(1, 30, 2):\n",
        "          # train the k-Nearest Neighbor classifier with the current value of `k`\n",
        "          model = KNeighborsClassifier(n_neighbors=k)\n",
        "          model.fit(trainData, trainLabels)\n",
        "          # evaluate the model and update the accuracies list\n",
        "          score = model.score(valData, valLabels)\n",
        "          print(\"k=%d, accuracy=%.2f%%\" % (k, score * 100))\n",
        "          accuracies.append(score)\n",
        "\n",
        "# find the value of k that has the largest accuracy\n",
        "\n",
        "i = np.argmax(accuracies)\n",
        "print(\"k=%d achieved highest accuracy of %.2f%% on validation data\" % (kVals[i],\n",
        "accuracies[i] * 100))\n",
        "\n",
        "# re-train our classifier using the best k value and predict the labels of the\n",
        "# test data\n",
        "\n",
        "model = KNeighborsClassifier(n_neighbors=kVals[i])\n",
        "model.fit(trainData, trainLabels)\n",
        "predictions = model.predict(testData)\n",
        "#print(predictions[1])\n",
        "\n",
        "# show a final classification report demonstrating the accuracy of the classifier\n",
        "# for each of the digits\n",
        "\n",
        "print(\"EVALUATION ON TESTING DATA\")\n",
        "print(classification_report(testLabels, predictions))\n",
        "\n",
        "print (\"Confusion matrix\")\n",
        "print(confusion_matrix(testLabels,predictions))\n",
        "\n",
        "# loop over a few random digits\n",
        "\n",
        "for i in np.random.randint(0, high=len(testLabels), size=(5,)):\n",
        "         # grab the image and classify it\n",
        "         image = testData[i]\n",
        "         prediction = model.predict([image])[0]\n",
        "         # convert the image for a 64-dim array to an 8 x 8 image compatible with OpenCV,\n",
        "         # then resize it to 32 x 32 pixels so we can see it better\n",
        "##         image = image.reshape((64, 64))\n",
        "##         image = exposure.rescale_intensity(image, out_range=(0, 255))\n",
        "##         image = imutils.resize(image, width=32, inter=cv2.INTER_CUBIC)\n",
        "\n",
        "         # show the prediction\n",
        "\n",
        "         imgdata = np.array(image, dtype='float')\n",
        "         pixels = imgdata.reshape((5,9))\n",
        "         plt.imshow(pixels,cmap='gray')\n",
        "         plt.annotate(prediction,(3,3),bbox={'facecolor':'white'},fontsize=16)\n",
        "         print(\"The Digit Could be: {}\".format(prediction))\n",
        "         #cv2.imshow(\"image\", image)\n",
        "         plt.show()\n",
        "         cv2.waitKey(0)"
      ],
      "metadata": {
        "colab": {
          "base_uri": "https://localhost:8080/",
          "height": 1000
        },
        "id": "LTgEA-ryN7s3",
        "outputId": "2fb37a55-0558-4518-c28a-7fc7e7f3b18a"
      },
      "execution_count": null,
      "outputs": [
        {
          "output_type": "stream",
          "name": "stdout",
          "text": [
            "training data points: 28350\n",
            "validation data points: 3150\n",
            "testing data points: 10500\n",
            "k=1, accuracy=59.78%\n",
            "k=3, accuracy=61.78%\n",
            "k=5, accuracy=64.67%\n",
            "k=7, accuracy=64.79%\n",
            "k=9, accuracy=64.44%\n",
            "k=11, accuracy=65.21%\n",
            "k=13, accuracy=65.46%\n",
            "k=15, accuracy=65.11%\n",
            "k=17, accuracy=65.40%\n",
            "k=19, accuracy=65.43%\n",
            "k=21, accuracy=64.79%\n",
            "k=23, accuracy=64.89%\n",
            "k=25, accuracy=64.92%\n",
            "k=27, accuracy=64.63%\n",
            "k=29, accuracy=64.54%\n",
            "k=13 achieved highest accuracy of 65.46% on validation data\n",
            "EVALUATION ON TESTING DATA\n",
            "              precision    recall  f1-score   support\n",
            "\n",
            "           0       0.82      0.89      0.85      1048\n",
            "           1       0.77      0.96      0.85      1208\n",
            "           2       0.67      0.64      0.66       996\n",
            "           3       0.59      0.58      0.59      1042\n",
            "           4       0.73      0.49      0.58      1013\n",
            "           5       0.71      0.52      0.60       948\n",
            "           6       0.82      0.88      0.85      1051\n",
            "           7       0.48      0.61      0.54      1132\n",
            "           8       0.63      0.51      0.57       995\n",
            "           9       0.44      0.48      0.46      1067\n",
            "\n",
            "    accuracy                           0.66     10500\n",
            "   macro avg       0.67      0.66      0.65     10500\n",
            "weighted avg       0.67      0.66      0.66     10500\n",
            "\n",
            "Confusion matrix\n",
            "[[ 930    2   24    4   17    3   33   20    6    9]\n",
            " [   0 1158    4    2    3    6    5    5   15   10]\n",
            " [  57   41  641   70   19    6   10   43   70   39]\n",
            " [  13   28  127  604   11   45   12   27  108   67]\n",
            " [  24  102    2   18  493   24   48  179   16  107]\n",
            " [  17   45   30  135   25  490   57   44   24   81]\n",
            " [  32   23   27   15   14   13  926    0    1    0]\n",
            " [  10    7    6   23   38   32    0  685   22  309]\n",
            " [  26   90   86  121   19   38   32   37  510   36]\n",
            " [  31   13    6   27   39   29    1  375   32  514]]\n",
            "The Digit Could be: 7\n"
          ]
        },
        {
          "output_type": "display_data",
          "data": {
            "text/plain": [
              "<Figure size 432x288 with 1 Axes>"
            ],
            "image/png": "[encoded data removed]"
          },
          "metadata": {
            "needs_background": "light"
          }
        },
        {
          "output_type": "stream",
          "name": "stdout",
          "text": [
            "The Digit Could be: 8\n"
          ]
        },
        {
          "output_type": "display_data",
          "data": {
            "text/plain": [
              "<Figure size 432x288 with 1 Axes>"
            ],
            "image/png": "[encoded data removed]"
          },
          "metadata": {
            "needs_background": "light"
          }
        },
        {
          "output_type": "stream",
          "name": "stdout",
          "text": [
            "The Digit Could be: 4\n"
          ]
        },
        {
          "output_type": "display_data",
          "data": {
            "text/plain": [
              "<Figure size 432x288 with 1 Axes>"
            ],
            "image/png": "[encoded data removed]"
          },
          "metadata": {
            "needs_background": "light"
          }
        },
        {
          "output_type": "stream",
          "name": "stdout",
          "text": [
            "The Digit Could be: 9\n"
          ]
        },
        {
          "output_type": "display_data",
          "data": {
            "text/plain": [
              "<Figure size 432x288 with 1 Axes>"
            ],
            "image/png": "[encoded data removed]"
          },
          "metadata": {
            "needs_background": "light"
          }
        },
        {
          "output_type": "stream",
          "name": "stdout",
          "text": [
            "The Digit Could be: 8\n"
          ]
        },
        {
          "output_type": "display_data",
          "data": {
            "text/plain": [
              "<Figure size 432x288 with 1 Axes>"
            ],
            "image/png": "[encoded data removed]"
          },
          "metadata": {
            "needs_background": "light"
          }
        }
      ]
    },
    {
      "cell_type": "code",
      "source": [
        "\n"
      ],
      "metadata": {
        "id": "z2S5Q_Q--xoX"
      },
      "execution_count": null,
      "outputs": []
    },
    {
      "cell_type": "code",
      "source": [
        "from matplotlib import pyplot as plt\n",
        "plt.imshow(trainData[3].reshape((5,9)))\n",
        "plt.show()"
      ],
      "metadata": {
        "colab": {
          "base_uri": "https://localhost:8080/",
          "height": 234
        },
        "id": "ttwmriqKN70o",
        "outputId": "3f147a10-196a-4f9e-87a4-6eb578154466"
      },
      "execution_count": null,
      "outputs": [
        {
          "output_type": "display_data",
          "data": {
            "text/plain": [
              "<Figure size 432x288 with 1 Axes>"
            ],
            "image/png": "[encoded data removed]"
          },
          "metadata": {
            "needs_background": "light"
          }
        }
      ]
    },
    {
      "cell_type": "code",
      "source": [
        "plt.imshow(trainData[5].reshape((5,9)))"
      ],
      "metadata": {
        "colab": {
          "base_uri": "https://localhost:8080/",
          "height": 252
        },
        "id": "A6FnzFXHTuLA",
        "outputId": "02aa8158-1360-452c-b3ab-c7f0d98a5d42"
      },
      "execution_count": null,
      "outputs": [
        {
          "output_type": "execute_result",
          "data": {
            "text/plain": [
              "<matplotlib.image.AxesImage at 0x7f578bafdd30>"
            ]
          },
          "metadata": {},
          "execution_count": 8
        },
        {
          "output_type": "display_data",
          "data": {
            "text/plain": [
              "<Figure size 432x288 with 1 Axes>"
            ],
            "image/png": "[encoded data removed]"
          },
          "metadata": {
            "needs_background": "light"
          }
        }
      ]
    },
    {
      "cell_type": "code",
      "source": [
        "trainLabels[:10], trainData[:10]"
      ],
      "metadata": {
        "colab": {
          "base_uri": "https://localhost:8080/"
        },
        "id": "45PvO-FhTuNp",
        "outputId": "dd8a8186-20e3-43a0-92d3-5c04c87ee0fc"
      },
      "execution_count": null,
      "outputs": [
        {
          "output_type": "execute_result",
          "data": {
            "text/plain": [
              "(36759    4\n",
              " 12260    5\n",
              " 30012    9\n",
              " 26538    6\n",
              " 35189    5\n",
              " 12482    6\n",
              " 32865    7\n",
              " 36492    4\n",
              " 33348    8\n",
              " 26421    2\n",
              " Name: label, dtype: int64,\n",
              " array([[0.        , 0.        , 0.        , 0.        , 0.        ,\n",
              "         0.        , 0.        , 0.        , 0.        , 0.        ,\n",
              "         0.        , 0.        , 0.        , 0.        , 0.        ,\n",
              "         0.        , 0.        , 0.        , 0.        , 0.        ,\n",
              "         0.        , 0.        , 0.        , 0.        , 0.        ,\n",
              "         0.        , 0.        , 0.        , 0.        , 0.        ,\n",
              "         0.        , 0.        , 0.        , 0.5324808 , 0.        ,\n",
              "         0.        , 0.        , 0.84619042, 0.02063879, 0.        ,\n",
              "         0.        , 0.        , 0.        , 0.        , 0.        ],\n",
              "        [0.        , 0.        , 0.        , 0.        , 0.        ,\n",
              "         0.        , 0.        , 0.        , 0.        , 0.        ,\n",
              "         0.        , 0.        , 0.        , 0.        , 0.        ,\n",
              "         0.        , 0.        , 0.        , 0.        , 0.        ,\n",
              "         0.        , 0.        , 0.        , 0.        , 0.        ,\n",
              "         0.        , 0.        , 0.        , 0.        , 0.        ,\n",
              "         0.        , 0.        , 0.        , 0.        , 0.        ,\n",
              "         0.        , 0.63874052, 0.75813127, 0.13132983, 0.        ,\n",
              "         0.        , 0.        , 0.        , 0.        , 0.        ],\n",
              "        [0.        , 0.        , 0.        , 0.        , 0.        ,\n",
              "         0.        , 0.        , 0.        , 0.        , 0.        ,\n",
              "         0.        , 0.        , 0.        , 0.        , 0.        ,\n",
              "         0.        , 0.        , 0.        , 0.        , 0.        ,\n",
              "         0.        , 0.        , 0.        , 0.        , 0.        ,\n",
              "         0.        , 0.        , 0.        , 0.        , 0.        ,\n",
              "         0.        , 0.        , 0.        , 0.54864561, 0.54864561,\n",
              "         0.34046388, 0.38817219, 0.36214948, 0.01517992, 0.        ,\n",
              "         0.        , 0.        , 0.        , 0.        , 0.        ],\n",
              "        [0.        , 0.        , 0.        , 0.50350677, 0.4039995 ,\n",
              "         0.        , 0.        , 0.        , 0.        , 0.        ,\n",
              "         0.        , 0.        , 0.        , 0.        , 0.        ,\n",
              "         0.        , 0.        , 0.        , 0.        , 0.        ,\n",
              "         0.        , 0.        , 0.        , 0.38409805, 0.50151662,\n",
              "         0.4039995 , 0.        , 0.        , 0.        , 0.        ,\n",
              "         0.        , 0.        , 0.        , 0.        , 0.        ,\n",
              "         0.        , 0.        , 0.10149741, 0.10149741, 0.01990145,\n",
              "         0.        , 0.        , 0.        , 0.        , 0.        ],\n",
              "        [0.        , 0.        , 0.        , 0.        , 0.        ,\n",
              "         0.        , 0.        , 0.        , 0.        , 0.        ,\n",
              "         0.        , 0.        , 0.        , 0.        , 0.        ,\n",
              "         0.        , 0.        , 0.        , 0.        , 0.        ,\n",
              "         0.        , 0.        , 0.        , 0.        , 0.        ,\n",
              "         0.        , 0.        , 0.        , 0.        , 0.        ,\n",
              "         0.        , 0.        , 0.        , 0.        , 0.        ,\n",
              "         0.        , 0.        , 0.        , 0.        , 0.        ,\n",
              "         0.        , 0.        , 0.        , 0.        , 0.        ],\n",
              "        [0.        , 0.        , 0.        , 0.        , 0.        ,\n",
              "         0.15407986, 0.39687238, 0.32061063, 0.03423997, 0.        ,\n",
              "         0.        , 0.        , 0.        , 0.        , 0.        ,\n",
              "         0.        , 0.        , 0.        , 0.        , 0.        ,\n",
              "         0.        , 0.        , 0.        , 0.        , 0.        ,\n",
              "         0.0575854 , 0.37975239, 0.37508331, 0.09338174, 0.        ,\n",
              "         0.        , 0.        , 0.        , 0.        , 0.        ,\n",
              "         0.        , 0.00466909, 0.32683608, 0.39531602, 0.38286512,\n",
              "         0.09026901, 0.        , 0.        , 0.        , 0.        ],\n",
              "        [0.        , 0.        , 0.        , 0.        , 0.        ,\n",
              "         0.        , 0.        , 0.        , 0.        , 0.        ,\n",
              "         0.        , 0.        , 0.        , 0.        , 0.        ,\n",
              "         0.        , 0.        , 0.        , 0.        , 0.04876173,\n",
              "         0.36649947, 0.39953161, 0.33504028, 0.2076306 , 0.08022091,\n",
              "         0.06449132, 0.        , 0.        , 0.        , 0.        ,\n",
              "         0.        , 0.        , 0.        , 0.39953161, 0.07864795,\n",
              "         0.        , 0.        , 0.39638569, 0.39795865, 0.23751682,\n",
              "         0.        , 0.        , 0.        , 0.        , 0.        ],\n",
              "        [0.        , 0.        , 0.        , 0.        , 0.        ,\n",
              "         0.        , 0.        , 0.        , 0.        , 0.        ,\n",
              "         0.        , 0.        , 0.        , 0.        , 0.        ,\n",
              "         0.        , 0.        , 0.        , 0.        , 0.        ,\n",
              "         0.        , 0.        , 0.        , 0.        , 0.        ,\n",
              "         0.        , 0.        , 0.        , 0.        , 0.        ,\n",
              "         0.        , 0.02407325, 0.31897051, 0.84256361, 0.        ,\n",
              "         0.        , 0.        , 0.43331843, 0.        , 0.        ,\n",
              "         0.        , 0.        , 0.        , 0.        , 0.        ],\n",
              "        [0.        , 0.        , 0.        , 0.        , 0.        ,\n",
              "         0.        , 0.        , 0.        , 0.        , 0.        ,\n",
              "         0.        , 0.        , 0.        , 0.        , 0.        ,\n",
              "         0.        , 0.        , 0.        , 0.        , 0.        ,\n",
              "         0.        , 0.        , 0.        , 0.        , 0.        ,\n",
              "         0.        , 0.        , 0.        , 0.        , 0.        ,\n",
              "         0.        , 0.01189728, 0.09041931, 0.        , 0.        ,\n",
              "         0.20225372, 0.04520966, 0.60200226, 0.53299805, 0.47351166,\n",
              "         0.26174011, 0.09755768, 0.        , 0.        , 0.        ],\n",
              "        [0.        , 0.        , 0.        , 0.27109211, 0.27109211,\n",
              "         0.13981522, 0.12594043, 0.03415334, 0.        , 0.        ,\n",
              "         0.        , 0.        , 0.        , 0.        , 0.        ,\n",
              "         0.        , 0.        , 0.        , 0.0779123 , 0.26255378,\n",
              "         0.27002482, 0.27002482, 0.27002482, 0.27002482, 0.27002482,\n",
              "         0.27002482, 0.27002482, 0.27002482, 0.25508274, 0.14194981,\n",
              "         0.        , 0.        , 0.        , 0.        , 0.        ,\n",
              "         0.        , 0.27002482, 0.        , 0.        , 0.        ,\n",
              "         0.        , 0.        , 0.        , 0.        , 0.        ]]))"
            ]
          },
          "metadata": {},
          "execution_count": 9
        }
      ]
    },
    {
      "cell_type": "code",
      "source": [
        "import pandas as pd\n",
        "import numpy as np\n",
        "import matplotlib.pyplot as plt\n",
        "import matplotlib.image as mpimg\n",
        "import seaborn as sns\n",
        "%matplotlib inline\n",
        "\n",
        "np.random.seed(2)\n",
        "\n",
        "from sklearn.model_selection import train_test_split\n",
        "from sklearn.metrics import confusion_matrix\n",
        "import itertools\n",
        "\n",
        "from keras.utils.np_utils import to_categorical # convert to one-hot-encoding\n",
        "from keras.models import Sequential\n",
        "from keras.layers import Dense, Dropout, Flatten, Conv2D, MaxPool2D\n",
        "from keras.optimizers import RMSprop\n",
        "from keras.preprocessing.image import ImageDataGenerator\n",
        "from keras.callbacks import ReduceLROnPlateau\n",
        "\n",
        "\n",
        "sns.set(style='white', context='notebook', palette='deep')"
      ],
      "metadata": {
        "id": "ycXBFsy9PZxL"
      },
      "execution_count": null,
      "outputs": []
    },
    {
      "cell_type": "code",
      "source": [
        "y = df[\"label\"]\n",
        "\n",
        "X = df.drop(labels = [\"label\"],axis = 1)\n",
        "\n",
        "# Drop 'label' column\n",
        "X_train = df.drop(labels = [\"label\"],axis = 1)\n",
        "\n",
        "X_train, X_test,y_train, y_test = train_test_split(X,y ,\n",
        "                                   random_state=104,\n",
        "                                   test_size=0.25,\n",
        "                                   shuffle=True)\n",
        ""
      ],
      "metadata": {
        "id": "5zXSSWR1PZzI"
      },
      "execution_count": null,
      "outputs": []
    },
    {
      "cell_type": "code",
      "source": [
        "# free some space\n",
        "\n",
        "g = sns.countplot(y_train)\n",
        "\n",
        "y_train.value_counts()"
      ],
      "metadata": {
        "colab": {
          "base_uri": "https://localhost:8080/",
          "height": 542
        },
        "id": "LvezHcyKPZ14",
        "outputId": "36795cd6-95d1-4b9e-ff4b-bbfb8c8cab77"
      },
      "execution_count": null,
      "outputs": [
        {
          "output_type": "stream",
          "name": "stderr",
          "text": [
            "/usr/local/lib/python3.8/dist-packages/seaborn/_decorators.py:36: FutureWarning: Pass the following variable as a keyword arg: x. From version 0.12, the only valid positional argument will be `data`, and passing other arguments without an explicit keyword will result in an error or misinterpretation.\n",
            "  warnings.warn(\n"
          ]
        },
        {
          "output_type": "execute_result",
          "data": {
            "text/plain": [
              "1    3512\n",
              "7    3287\n",
              "3    3284\n",
              "2    3174\n",
              "0    3142\n",
              "9    3085\n",
              "8    3068\n",
              "6    3056\n",
              "4    3025\n",
              "5    2867\n",
              "Name: label, dtype: int64"
            ]
          },
          "metadata": {},
          "execution_count": 12
        },
        {
          "output_type": "display_data",
          "data": {
            "text/plain": [
              "<Figure size 432x288 with 1 Axes>"
            ],
            "image/png": "[encoded data removed]"
          },
          "metadata": {}
        }
      ]
    },
    {
      "cell_type": "code",
      "source": [
        "# plot some samples\n",
        "img = X_train.iloc[0].to_numpy()\n",
        "img = img.reshape((5,9))\n",
        "plt.imshow(img,cmap='gray')\n",
        "plt.title(df.iloc[0,0])\n",
        "plt.axis(\"off\")\n",
        "plt.show()"
      ],
      "metadata": {
        "colab": {
          "base_uri": "https://localhost:8080/",
          "height": 233
        },
        "id": "I3KEbYjnjHmb",
        "outputId": "6b2d0163-3786-4308-d825-8e6e95cc1537"
      },
      "execution_count": null,
      "outputs": [
        {
          "output_type": "display_data",
          "data": {
            "text/plain": [
              "<Figure size 432x288 with 1 Axes>"
            ],
            "image/png": "[encoded data removed]"
          },
          "metadata": {}
        }
      ]
    },
    {
      "cell_type": "code",
      "source": [
        "# plot some samples\n",
        "img = X_train.iloc[3].to_numpy()\n",
        "img = img.reshape((5,9))\n",
        "plt.imshow(img,cmap='gray')\n",
        "plt.title(df.iloc[3,0])\n",
        "plt.axis(\"off\")\n",
        "plt.show()"
      ],
      "metadata": {
        "colab": {
          "base_uri": "https://localhost:8080/",
          "height": 233
        },
        "id": "I0szld0vjKL8",
        "outputId": "fdadf89a-b0e5-4b07-eac3-de1cdb45a588"
      },
      "execution_count": null,
      "outputs": [
        {
          "output_type": "display_data",
          "data": {
            "text/plain": [
              "<Figure size 432x288 with 1 Axes>"
            ],
            "image/png": "[encoded data removed]"
          },
          "metadata": {}
        }
      ]
    },
    {
      "cell_type": "code",
      "source": [],
      "metadata": {
        "id": "SRhr6uhkjHow"
      },
      "execution_count": null,
      "outputs": []
    },
    {
      "cell_type": "code",
      "source": [
        "# Normalize the data\n",
        "X_train = X_train / 255.0\n",
        "X_test = X_test / 255.0\n",
        "print(\"x_train shape: \",X_train.shape)\n",
        "print(\"X_test shape: \",X_test.shape)"
      ],
      "metadata": {
        "colab": {
          "base_uri": "https://localhost:8080/"
        },
        "id": "vYbUBMkKP-Zl",
        "outputId": "d91f6773-e72c-407a-f1b0-a6956c2ef789"
      },
      "execution_count": null,
      "outputs": [
        {
          "output_type": "stream",
          "name": "stdout",
          "text": [
            "x_train shape:  (31500, 45)\n",
            "X_test shape:  (10500, 45)\n"
          ]
        }
      ]
    },
    {
      "cell_type": "code",
      "source": [
        "# Reshape\n",
        "X_train = X_train.values.reshape(-1,5,9,1)\n",
        "X_test = X_test.values.reshape(-1,5,9,1)\n",
        "print(\"x_train shape: \",X_train.shape)\n",
        "print(\"test shape: \",X_test.shape)"
      ],
      "metadata": {
        "colab": {
          "base_uri": "https://localhost:8080/"
        },
        "id": "7FpVRLI4P-cF",
        "outputId": "3520924a-dc60-4543-deab-06b707be9dc2"
      },
      "execution_count": null,
      "outputs": [
        {
          "output_type": "stream",
          "name": "stdout",
          "text": [
            "x_train shape:  (31500, 5, 9, 1)\n",
            "test shape:  (10500, 5, 9, 1)\n"
          ]
        }
      ]
    },
    {
      "cell_type": "code",
      "source": [
        "# Label Encoding\n",
        "from keras.utils.np_utils import to_categorical # convert to one-hot-encoding\n",
        "y_train = to_categorical(y_train, num_classes = 10)"
      ],
      "metadata": {
        "id": "Or18ED9EP-ea"
      },
      "execution_count": null,
      "outputs": []
    },
    {
      "cell_type": "code",
      "source": [
        "# Split the train and the validation set for the fitting\n",
        "from sklearn.model_selection import train_test_split\n",
        "X_train, X_val, Y_train, Y_val = train_test_split(X_train, y_train, test_size = 0.1, random_state=2)\n",
        "print(\"x_train shape\",X_train.shape)\n",
        "print(\"x_test shape\",X_val.shape)\n",
        "print(\"y_train shape\",Y_train.shape)\n",
        "print(\"y_test shape\",Y_val.shape)"
      ],
      "metadata": {
        "colab": {
          "base_uri": "https://localhost:8080/"
        },
        "id": "iMY0PJT_bv1M",
        "outputId": "383785e7-41b5-4a9f-f144-f7522eaa93ae"
      },
      "execution_count": null,
      "outputs": [
        {
          "output_type": "stream",
          "name": "stdout",
          "text": [
            "x_train shape (28350, 5, 9, 1)\n",
            "x_test shape (3150, 5, 9, 1)\n",
            "y_train shape (28350, 10)\n",
            "y_test shape (3150, 10)\n"
          ]
        }
      ]
    },
    {
      "cell_type": "code",
      "source": [
        "# Some examples\n",
        "plt.imshow(X_train[2][:,:,0],cmap='gray')\n",
        "plt.show()"
      ],
      "metadata": {
        "colab": {
          "base_uri": "https://localhost:8080/",
          "height": 236
        },
        "id": "ACSFPknjbq9r",
        "outputId": "62ef415e-5c59-4256-83cb-6848a60d1193"
      },
      "execution_count": null,
      "outputs": [
        {
          "output_type": "display_data",
          "data": {
            "text/plain": [
              "<Figure size 432x288 with 1 Axes>"
            ],
            "image/png": "[encoded data removed]"
          },
          "metadata": {}
        }
      ]
    },
    {
      "cell_type": "code",
      "source": [
        "#\n",
        "from sklearn.metrics import confusion_matrix\n",
        "from sklearn import metrics\n",
        "import itertools\n",
        "\n",
        "from keras.utils.np_utils import to_categorical # convert to one-hot-encoding\n",
        "from keras.models import Sequential\n",
        "from keras.layers import Dense, Dropout, Flatten, Conv2D, MaxPool2D\n",
        "from keras.optimizers import RMSprop,Adam\n",
        "from keras.preprocessing.image import ImageDataGenerator\n",
        "from keras.callbacks import ReduceLROnPlateau\n",
        "model = Sequential()\n",
        "#\n",
        "model.add(Conv2D(filters = 8, kernel_size = (5,5),padding = 'Same',\n",
        "                 activation ='relu', input_shape = (5,9,1)))\n",
        "model.add(MaxPool2D(pool_size=(2,2)))\n",
        "model.add(Dropout(0.25))\n",
        "#\n",
        "# model.add(Conv2D(filters = 16, kernel_size = (3,3),padding = 'Same',\n",
        "#                  activation ='relu'))\n",
        "# model.add(MaxPool2D(pool_size=(2,2), strides=(2,2)))\n",
        "#model.add(Dropout(0.25))\n",
        "# fully connected\n",
        "model.add(Flatten())\n",
        "model.add(Dense(256, activation = \"relu\"))\n",
        "#model.add(Dropout(0.5))\n",
        "model.add(Dense(10, activation = \"softmax\"))\n",
        "\n",
        "model.compile(optimizer = 'adam' , loss = \"categorical_crossentropy\", metrics=[\"accuracy\"])\n",
        "\n",
        "\n",
        "model.summary()\n",
        "\n",
        "\n"
      ],
      "metadata": {
        "colab": {
          "base_uri": "https://localhost:8080/"
        },
        "id": "KdBscg15brEV",
        "outputId": "ad60e732-e0c8-49b7-f0b4-f4773ad7e0b5"
      },
      "execution_count": null,
      "outputs": [
        {
          "output_type": "stream",
          "name": "stdout",
          "text": [
            "Model: \"sequential\"\n",
            "_________________________________________________________________\n",
            " Layer (type)                Output Shape              Param #   \n",
            "=================================================================\n",
            " conv2d (Conv2D)             (None, 5, 9, 8)           208       \n",
            "                                                                 \n",
            " max_pooling2d (MaxPooling2D  (None, 2, 4, 8)          0         \n",
            " )                                                               \n",
            "                                                                 \n",
            " dropout (Dropout)           (None, 2, 4, 8)           0         \n",
            "                                                                 \n",
            " flatten (Flatten)           (None, 64)                0         \n",
            "                                                                 \n",
            " dense (Dense)               (None, 256)               16640     \n",
            "                                                                 \n",
            " dense_1 (Dense)             (None, 10)                2570      \n",
            "                                                                 \n",
            "=================================================================\n",
            "Total params: 19,418\n",
            "Trainable params: 19,418\n",
            "Non-trainable params: 0\n",
            "_________________________________________________________________\n"
          ]
        }
      ]
    },
    {
      "cell_type": "code",
      "source": [
        "#Define the optimizer\n",
        "optimizer = Adam(lr=0.001, beta_1=0.9, beta_2=0.999)"
      ],
      "metadata": {
        "colab": {
          "base_uri": "https://localhost:8080/"
        },
        "id": "2MLnaTwzQDJo",
        "outputId": "17b30be1-1224-403a-a8a3-18dd99adc744"
      },
      "execution_count": null,
      "outputs": [
        {
          "output_type": "stream",
          "name": "stderr",
          "text": [
            "/usr/local/lib/python3.8/dist-packages/keras/optimizers/optimizer_v2/adam.py:110: UserWarning: The `lr` argument is deprecated, use `learning_rate` instead.\n",
            "  super(Adam, self).__init__(name, **kwargs)\n"
          ]
        }
      ]
    },
    {
      "cell_type": "code",
      "source": [
        "#Compile the model\n",
        "model.compile(optimizer = optimizer , loss = \"categorical_crossentropy\", metrics=[\"accuracy\"])"
      ],
      "metadata": {
        "id": "i2K41HXQRDcy"
      },
      "execution_count": null,
      "outputs": []
    },
    {
      "cell_type": "code",
      "source": [
        "epochs = 25  # for better result increase the epochs\n",
        "batch_size = 30"
      ],
      "metadata": {
        "id": "FRMoO3ndRDe6"
      },
      "execution_count": null,
      "outputs": []
    },
    {
      "cell_type": "code",
      "source": [
        "# data augmentation\n",
        "datagen = ImageDataGenerator(\n",
        "        featurewise_center=False,  # set input mean to 0 over the dataset\n",
        "        samplewise_center=False,  # set each sample mean to 0\n",
        "        featurewise_std_normalization=False,  # divide inputs by std of the dataset\n",
        "        samplewise_std_normalization=False,  # divide each input by its std\n",
        "        zca_whitening=False,  # dimesion reduction\n",
        "        rotation_range=5,  # randomly rotate images in the range 5 degrees\n",
        "        zoom_range = 0.1, # Randomly zoom image 10%\n",
        "        width_shift_range=0.1,  # randomly shift images horizontally 10%\n",
        "        height_shift_range=0.1,  # randomly shift images vertically 10%\n",
        "        horizontal_flip=False,  # randomly flip images\n",
        "        vertical_flip=False)  # randomly flip images\n",
        "\n",
        "datagen.fit(X_train)"
      ],
      "metadata": {
        "id": "4C5UGsCLjpXP"
      },
      "execution_count": null,
      "outputs": []
    },
    {
      "cell_type": "code",
      "source": [
        "#Fit the model\n",
        "history = model.fit_generator(datagen.flow(X_train,Y_train, batch_size=batch_size),\n",
        "                              epochs = epochs, validation_data = (X_val,Y_val), steps_per_epoch=X_train.shape[0] // batch_size)"
      ],
      "metadata": {
        "colab": {
          "base_uri": "https://localhost:8080/"
        },
        "id": "OeLcu4SgjpZr",
        "outputId": "70e6b604-1bea-44f2-b034-9f6902ffb756"
      },
      "execution_count": null,
      "outputs": [
        {
          "output_type": "stream",
          "name": "stdout",
          "text": [
            "Epoch 1/25\n"
          ]
        },
        {
          "output_type": "stream",
          "name": "stderr",
          "text": [
            "<ipython-input-25-d6d52b9c9655>:2: UserWarning: `Model.fit_generator` is deprecated and will be removed in a future version. Please use `Model.fit`, which supports generators.\n",
            "  history = model.fit_generator(datagen.flow(X_train,Y_train, batch_size=batch_size),\n"
          ]
        },
        {
          "output_type": "stream",
          "name": "stdout",
          "text": [
            "945/945 [==============================] - 17s 17ms/step - loss: 1.6770 - accuracy: 0.3991 - val_loss: 1.2212 - val_accuracy: 0.5749\n",
            "Epoch 2/25\n",
            "945/945 [==============================] - 15s 16ms/step - loss: 1.4454 - accuracy: 0.4783 - val_loss: 1.1602 - val_accuracy: 0.5870\n",
            "Epoch 3/25\n",
            "945/945 [==============================] - 15s 16ms/step - loss: 1.3827 - accuracy: 0.5011 - val_loss: 1.1374 - val_accuracy: 0.5949\n",
            "Epoch 4/25\n",
            "945/945 [==============================] - 16s 17ms/step - loss: 1.3485 - accuracy: 0.5111 - val_loss: 1.1450 - val_accuracy: 0.5984\n",
            "Epoch 5/25\n",
            "945/945 [==============================] - 16s 17ms/step - loss: 1.3247 - accuracy: 0.5193 - val_loss: 1.0969 - val_accuracy: 0.6083\n",
            "Epoch 6/25\n",
            "945/945 [==============================] - 15s 16ms/step - loss: 1.3035 - accuracy: 0.5295 - val_loss: 1.1083 - val_accuracy: 0.6130\n",
            "Epoch 7/25\n",
            "945/945 [==============================] - 15s 15ms/step - loss: 1.2772 - accuracy: 0.5357 - val_loss: 1.0862 - val_accuracy: 0.6083\n",
            "Epoch 8/25\n",
            "945/945 [==============================] - 15s 15ms/step - loss: 1.2673 - accuracy: 0.5424 - val_loss: 1.0669 - val_accuracy: 0.6238\n",
            "Epoch 9/25\n",
            "945/945 [==============================] - 15s 15ms/step - loss: 1.2584 - accuracy: 0.5422 - val_loss: 1.0721 - val_accuracy: 0.6206\n",
            "Epoch 10/25\n",
            "945/945 [==============================] - 16s 17ms/step - loss: 1.2535 - accuracy: 0.5459 - val_loss: 1.0563 - val_accuracy: 0.6241\n",
            "Epoch 11/25\n",
            "945/945 [==============================] - 15s 16ms/step - loss: 1.2425 - accuracy: 0.5483 - val_loss: 1.0545 - val_accuracy: 0.6175\n",
            "Epoch 12/25\n",
            "945/945 [==============================] - 15s 16ms/step - loss: 1.2379 - accuracy: 0.5507 - val_loss: 1.0620 - val_accuracy: 0.6251\n",
            "Epoch 13/25\n",
            "945/945 [==============================] - 15s 16ms/step - loss: 1.2352 - accuracy: 0.5526 - val_loss: 1.0431 - val_accuracy: 0.6254\n",
            "Epoch 14/25\n",
            "945/945 [==============================] - 18s 19ms/step - loss: 1.2269 - accuracy: 0.5580 - val_loss: 1.0414 - val_accuracy: 0.6286\n",
            "Epoch 15/25\n",
            "945/945 [==============================] - 15s 15ms/step - loss: 1.2156 - accuracy: 0.5584 - val_loss: 1.0341 - val_accuracy: 0.6267\n",
            "Epoch 16/25\n",
            "945/945 [==============================] - 15s 15ms/step - loss: 1.2150 - accuracy: 0.5581 - val_loss: 1.0358 - val_accuracy: 0.6283\n",
            "Epoch 17/25\n",
            "945/945 [==============================] - 15s 16ms/step - loss: 1.2057 - accuracy: 0.5642 - val_loss: 1.0379 - val_accuracy: 0.6279\n",
            "Epoch 18/25\n",
            "945/945 [==============================] - 15s 16ms/step - loss: 1.1986 - accuracy: 0.5643 - val_loss: 1.0330 - val_accuracy: 0.6324\n",
            "Epoch 19/25\n",
            "945/945 [==============================] - 18s 19ms/step - loss: 1.1996 - accuracy: 0.5660 - val_loss: 1.0191 - val_accuracy: 0.6352\n",
            "Epoch 20/25\n",
            "945/945 [==============================] - 15s 16ms/step - loss: 1.1968 - accuracy: 0.5665 - val_loss: 1.0268 - val_accuracy: 0.6317\n",
            "Epoch 21/25\n",
            "945/945 [==============================] - 15s 16ms/step - loss: 1.1896 - accuracy: 0.5690 - val_loss: 1.0104 - val_accuracy: 0.6435\n",
            "Epoch 22/25\n",
            "945/945 [==============================] - 15s 15ms/step - loss: 1.1821 - accuracy: 0.5728 - val_loss: 1.0093 - val_accuracy: 0.6337\n",
            "Epoch 23/25\n",
            "945/945 [==============================] - 15s 15ms/step - loss: 1.1831 - accuracy: 0.5731 - val_loss: 1.0061 - val_accuracy: 0.6378\n",
            "Epoch 24/25\n",
            "945/945 [==============================] - 15s 15ms/step - loss: 1.1784 - accuracy: 0.5707 - val_loss: 1.0137 - val_accuracy: 0.6340\n",
            "Epoch 25/25\n",
            "945/945 [==============================] - 14s 15ms/step - loss: 1.1840 - accuracy: 0.5693 - val_loss: 1.0155 - val_accuracy: 0.6356\n"
          ]
        }
      ]
    },
    {
      "cell_type": "code",
      "source": [
        "# Plot the loss and accuracy curves for training and validation\n",
        "plt.plot(history.history['val_loss'], color='b', label=\"validation loss\")\n",
        "plt.title(\"Test Loss\")\n",
        "plt.xlabel(\"Number of Epochs\")\n",
        "plt.ylabel(\"Loss\")\n",
        "plt.legend()\n",
        "plt.show()"
      ],
      "metadata": {
        "colab": {
          "base_uri": "https://localhost:8080/",
          "height": 301
        },
        "id": "bGUFxuomju8I",
        "outputId": "427ba46f-4b1b-4814-c5a9-ec02421ab96a"
      },
      "execution_count": null,
      "outputs": [
        {
          "output_type": "display_data",
          "data": {
            "text/plain": [
              "<Figure size 432x288 with 1 Axes>"
            ],
            "image/png": "[encoded data removed]"
          },
          "metadata": {}
        }
      ]
    },
    {
      "cell_type": "code",
      "source": [
        "# confusion matrix\n",
        "import seaborn as sns\n",
        "# Predict the values from the validation dataset\n",
        "Y_pred = model.predict(X_val)\n",
        "# Convert predictions classes to one hot vectors\n",
        "Y_pred_classes = np.argmax(Y_pred,axis = 1)\n",
        "# Convert validation observations to one hot vectors\n",
        "Y_true = np.argmax(Y_val,axis = 1)\n",
        "# compute the confusion matrix\n",
        "confusion_mtx = confusion_matrix(Y_true, Y_pred_classes)\n",
        "# plot the confusion matrix\n",
        "f,ax = plt.subplots(figsize=(8, 8))\n",
        "sns.heatmap(confusion_mtx, annot=True, linewidths=0.01,cmap=\"Greens\",linecolor=\"gray\", fmt= '.1f',ax=ax)\n",
        "plt.xlabel(\"Predicted Label\")\n",
        "plt.ylabel(\"True Label\")\n",
        "plt.title(\"Confusion Matrix\")\n",
        "plt.show()"
      ],
      "metadata": {
        "colab": {
          "base_uri": "https://localhost:8080/",
          "height": 536
        },
        "id": "r22SuEafju-q",
        "outputId": "cca25873-0719-449d-b545-9a26be2f4739"
      },
      "execution_count": null,
      "outputs": [
        {
          "output_type": "stream",
          "name": "stdout",
          "text": [
            "99/99 [==============================] - 0s 2ms/step\n"
          ]
        },
        {
          "output_type": "display_data",
          "data": {
            "text/plain": [
              "<Figure size 576x576 with 2 Axes>"
            ],
            "image/png": "[encoded data removed]"
          },
          "metadata": {}
        }
      ]
    },
    {
      "cell_type": "code",
      "source": [
        "history_dict = history.history\n",
        "history_dict.keys()"
      ],
      "metadata": {
        "colab": {
          "base_uri": "https://localhost:8080/"
        },
        "id": "eznf7zs1fzoC",
        "outputId": "9575eefd-05fa-4151-80e4-3294ba3c2155"
      },
      "execution_count": null,
      "outputs": [
        {
          "output_type": "execute_result",
          "data": {
            "text/plain": [
              "dict_keys(['loss', 'accuracy', 'val_loss', 'val_accuracy'])"
            ]
          },
          "metadata": {},
          "execution_count": 30
        }
      ]
    },
    {
      "cell_type": "code",
      "source": [
        "%matplotlib inline\n",
        "loss_values = history_dict['loss']\n",
        "val_loss_values = history_dict['val_loss']\n",
        "epochs = range(1, len(loss_values) + 1)\n",
        "\n",
        "# \"bo\" is for \"blue dot\"\n",
        "plt.plot(epochs, loss_values, 'bo')\n",
        "# b+ is for \"blue crosses\"\n",
        "plt.plot(epochs, val_loss_values, 'b+')\n",
        "plt.xlabel('Epochs')\n",
        "plt.ylabel('Loss')\n",
        "\n",
        "plt.show()"
      ],
      "metadata": {
        "colab": {
          "base_uri": "https://localhost:8080/",
          "height": 286
        },
        "id": "qNGVFBATgy6o",
        "outputId": "d8def41e-ed74-44cb-fd08-63391278d9bb"
      },
      "execution_count": null,
      "outputs": [
        {
          "output_type": "display_data",
          "data": {
            "text/plain": [
              "<Figure size 432x288 with 1 Axes>"
            ],
            "image/png": "[encoded data removed]"
          },
          "metadata": {
            "needs_background": "light"
          }
        }
      ]
    },
    {
      "cell_type": "code",
      "source": [
        "plt.clf()   # clear figure\n",
        "acc_values = history_dict['accuracy']\n",
        "val_acc_values = history_dict['val_accuracy']\n",
        "\n",
        "plt.plot(epochs, acc_values, 'bo')\n",
        "plt.plot(epochs, val_acc_values, 'b+')\n",
        "plt.xlabel('Epochs')\n",
        "plt.ylabel('Accuracy')\n",
        "\n",
        "plt.show()"
      ],
      "metadata": {
        "colab": {
          "base_uri": "https://localhost:8080/",
          "height": 285
        },
        "id": "rryaNpWPgy_r",
        "outputId": "17422c0a-36e6-4345-c09f-d7c0a6413466"
      },
      "execution_count": null,
      "outputs": [
        {
          "output_type": "display_data",
          "data": {
            "text/plain": [
              "<Figure size 432x288 with 1 Axes>"
            ],
            "image/png": "[encoded data removed]"
          },
          "metadata": {
            "needs_background": "light"
          }
        }
      ]
    }
  ]
}